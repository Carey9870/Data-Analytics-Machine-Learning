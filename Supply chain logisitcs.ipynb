{
 "cells": [
  {
   "cell_type": "code",
   "execution_count": 96,
   "metadata": {},
   "outputs": [],
   "source": [
    "import pandas as pd\n",
    "import numpy as np\n",
    "import matplotlib.pyplot as plt\n",
    "import seaborn as sns\n",
    "import missingno as msno"
   ]
  },
  {
   "cell_type": "code",
   "execution_count": 97,
   "metadata": {},
   "outputs": [],
   "source": [
    "# load the dataset\n",
    "\n",
    "df = pd.read_excel('Supply chain logisitcs problem.xlsx')"
   ]
  },
  {
   "cell_type": "code",
   "execution_count": 98,
   "metadata": {},
   "outputs": [
    {
     "data": {
      "text/plain": [
       "(9215, 14)"
      ]
     },
     "execution_count": 98,
     "metadata": {},
     "output_type": "execute_result"
    }
   ],
   "source": [
    "# how many rows and columns are there in the dataset\n",
    "\n",
    "df.shape"
   ]
  },
  {
   "cell_type": "code",
   "execution_count": 99,
   "metadata": {},
   "outputs": [
    {
     "data": {
      "text/plain": [
       "Index(['Order ID', 'Order Date', 'Origin Port', 'Carrier', 'TPT',\n",
       "       'Service Level', 'Ship ahead day count', 'Ship Late Day count',\n",
       "       'Customer', 'Product ID', 'Plant Code', 'Destination Port',\n",
       "       'Unit quantity', 'Weight'],\n",
       "      dtype='object')"
      ]
     },
     "execution_count": 99,
     "metadata": {},
     "output_type": "execute_result"
    }
   ],
   "source": [
    "# checking how many columns there are\n",
    "\n",
    "df.keys()"
   ]
  },
  {
   "cell_type": "code",
   "execution_count": 100,
   "metadata": {},
   "outputs": [
    {
     "data": {
      "text/html": [
       "<div>\n",
       "<style scoped>\n",
       "    .dataframe tbody tr th:only-of-type {\n",
       "        vertical-align: middle;\n",
       "    }\n",
       "\n",
       "    .dataframe tbody tr th {\n",
       "        vertical-align: top;\n",
       "    }\n",
       "\n",
       "    .dataframe thead th {\n",
       "        text-align: right;\n",
       "    }\n",
       "</style>\n",
       "<table border=\"1\" class=\"dataframe\">\n",
       "  <thead>\n",
       "    <tr style=\"text-align: right;\">\n",
       "      <th></th>\n",
       "      <th>Order ID</th>\n",
       "      <th>Order Date</th>\n",
       "      <th>Origin Port</th>\n",
       "      <th>Carrier</th>\n",
       "      <th>TPT</th>\n",
       "      <th>Service Level</th>\n",
       "      <th>Ship ahead day count</th>\n",
       "      <th>Ship Late Day count</th>\n",
       "      <th>Customer</th>\n",
       "      <th>Product ID</th>\n",
       "      <th>Plant Code</th>\n",
       "      <th>Destination Port</th>\n",
       "      <th>Unit quantity</th>\n",
       "      <th>Weight</th>\n",
       "    </tr>\n",
       "  </thead>\n",
       "  <tbody>\n",
       "    <tr>\n",
       "      <th>0</th>\n",
       "      <td>1.447296e+09</td>\n",
       "      <td>2013-05-26</td>\n",
       "      <td>PORT09</td>\n",
       "      <td>V44_3</td>\n",
       "      <td>1</td>\n",
       "      <td>CRF</td>\n",
       "      <td>3</td>\n",
       "      <td>0</td>\n",
       "      <td>V55555_53</td>\n",
       "      <td>1700106</td>\n",
       "      <td>PLANT16</td>\n",
       "      <td>PORT09</td>\n",
       "      <td>808</td>\n",
       "      <td>14.30</td>\n",
       "    </tr>\n",
       "    <tr>\n",
       "      <th>1</th>\n",
       "      <td>1.447158e+09</td>\n",
       "      <td>2013-05-26</td>\n",
       "      <td>PORT09</td>\n",
       "      <td>V44_3</td>\n",
       "      <td>1</td>\n",
       "      <td>CRF</td>\n",
       "      <td>3</td>\n",
       "      <td>0</td>\n",
       "      <td>V55555_53</td>\n",
       "      <td>1700106</td>\n",
       "      <td>PLANT16</td>\n",
       "      <td>PORT09</td>\n",
       "      <td>3188</td>\n",
       "      <td>87.94</td>\n",
       "    </tr>\n",
       "    <tr>\n",
       "      <th>2</th>\n",
       "      <td>1.447139e+09</td>\n",
       "      <td>2013-05-26</td>\n",
       "      <td>PORT09</td>\n",
       "      <td>V44_3</td>\n",
       "      <td>1</td>\n",
       "      <td>CRF</td>\n",
       "      <td>3</td>\n",
       "      <td>0</td>\n",
       "      <td>V55555_53</td>\n",
       "      <td>1700106</td>\n",
       "      <td>PLANT16</td>\n",
       "      <td>PORT09</td>\n",
       "      <td>2331</td>\n",
       "      <td>61.20</td>\n",
       "    </tr>\n",
       "    <tr>\n",
       "      <th>3</th>\n",
       "      <td>1.447364e+09</td>\n",
       "      <td>2013-05-26</td>\n",
       "      <td>PORT09</td>\n",
       "      <td>V44_3</td>\n",
       "      <td>1</td>\n",
       "      <td>CRF</td>\n",
       "      <td>3</td>\n",
       "      <td>0</td>\n",
       "      <td>V55555_53</td>\n",
       "      <td>1700106</td>\n",
       "      <td>PLANT16</td>\n",
       "      <td>PORT09</td>\n",
       "      <td>847</td>\n",
       "      <td>16.16</td>\n",
       "    </tr>\n",
       "    <tr>\n",
       "      <th>4</th>\n",
       "      <td>1.447364e+09</td>\n",
       "      <td>2013-05-26</td>\n",
       "      <td>PORT09</td>\n",
       "      <td>V44_3</td>\n",
       "      <td>1</td>\n",
       "      <td>CRF</td>\n",
       "      <td>3</td>\n",
       "      <td>0</td>\n",
       "      <td>V55555_53</td>\n",
       "      <td>1700106</td>\n",
       "      <td>PLANT16</td>\n",
       "      <td>PORT09</td>\n",
       "      <td>2163</td>\n",
       "      <td>52.34</td>\n",
       "    </tr>\n",
       "  </tbody>\n",
       "</table>\n",
       "</div>"
      ],
      "text/plain": [
       "       Order ID Order Date Origin Port Carrier  TPT Service Level  \\\n",
       "0  1.447296e+09 2013-05-26      PORT09   V44_3    1           CRF   \n",
       "1  1.447158e+09 2013-05-26      PORT09   V44_3    1           CRF   \n",
       "2  1.447139e+09 2013-05-26      PORT09   V44_3    1           CRF   \n",
       "3  1.447364e+09 2013-05-26      PORT09   V44_3    1           CRF   \n",
       "4  1.447364e+09 2013-05-26      PORT09   V44_3    1           CRF   \n",
       "\n",
       "   Ship ahead day count  Ship Late Day count   Customer  Product ID  \\\n",
       "0                     3                    0  V55555_53     1700106   \n",
       "1                     3                    0  V55555_53     1700106   \n",
       "2                     3                    0  V55555_53     1700106   \n",
       "3                     3                    0  V55555_53     1700106   \n",
       "4                     3                    0  V55555_53     1700106   \n",
       "\n",
       "  Plant Code Destination Port  Unit quantity  Weight  \n",
       "0    PLANT16           PORT09            808   14.30  \n",
       "1    PLANT16           PORT09           3188   87.94  \n",
       "2    PLANT16           PORT09           2331   61.20  \n",
       "3    PLANT16           PORT09            847   16.16  \n",
       "4    PLANT16           PORT09           2163   52.34  "
      ]
     },
     "execution_count": 100,
     "metadata": {},
     "output_type": "execute_result"
    }
   ],
   "source": [
    "# checking the first 5 rows\n",
    "\n",
    "df.head()"
   ]
  },
  {
   "cell_type": "code",
   "execution_count": 101,
   "metadata": {},
   "outputs": [
    {
     "data": {
      "text/html": [
       "<div>\n",
       "<style scoped>\n",
       "    .dataframe tbody tr th:only-of-type {\n",
       "        vertical-align: middle;\n",
       "    }\n",
       "\n",
       "    .dataframe tbody tr th {\n",
       "        vertical-align: top;\n",
       "    }\n",
       "\n",
       "    .dataframe thead th {\n",
       "        text-align: right;\n",
       "    }\n",
       "</style>\n",
       "<table border=\"1\" class=\"dataframe\">\n",
       "  <thead>\n",
       "    <tr style=\"text-align: right;\">\n",
       "      <th></th>\n",
       "      <th>Order ID</th>\n",
       "      <th>Order Date</th>\n",
       "      <th>Origin Port</th>\n",
       "      <th>Carrier</th>\n",
       "      <th>TPT</th>\n",
       "      <th>Service Level</th>\n",
       "      <th>Ship ahead day count</th>\n",
       "      <th>Ship Late Day count</th>\n",
       "      <th>Customer</th>\n",
       "      <th>Product ID</th>\n",
       "      <th>Plant Code</th>\n",
       "      <th>Destination Port</th>\n",
       "      <th>Unit quantity</th>\n",
       "      <th>Weight</th>\n",
       "    </tr>\n",
       "  </thead>\n",
       "  <tbody>\n",
       "    <tr>\n",
       "      <th>9210</th>\n",
       "      <td>1.447305e+09</td>\n",
       "      <td>2013-05-26</td>\n",
       "      <td>PORT04</td>\n",
       "      <td>V444_1</td>\n",
       "      <td>1</td>\n",
       "      <td>DTD</td>\n",
       "      <td>5</td>\n",
       "      <td>0</td>\n",
       "      <td>V55555555555555_8</td>\n",
       "      <td>1683388</td>\n",
       "      <td>PLANT03</td>\n",
       "      <td>PORT09</td>\n",
       "      <td>339</td>\n",
       "      <td>2.354118</td>\n",
       "    </tr>\n",
       "    <tr>\n",
       "      <th>9211</th>\n",
       "      <td>1.447319e+09</td>\n",
       "      <td>2013-05-26</td>\n",
       "      <td>PORT04</td>\n",
       "      <td>V444_1</td>\n",
       "      <td>1</td>\n",
       "      <td>DTD</td>\n",
       "      <td>5</td>\n",
       "      <td>0</td>\n",
       "      <td>V55555555555555_8</td>\n",
       "      <td>1683388</td>\n",
       "      <td>PLANT03</td>\n",
       "      <td>PORT09</td>\n",
       "      <td>339</td>\n",
       "      <td>2.354118</td>\n",
       "    </tr>\n",
       "    <tr>\n",
       "      <th>9212</th>\n",
       "      <td>1.447322e+09</td>\n",
       "      <td>2013-05-26</td>\n",
       "      <td>PORT04</td>\n",
       "      <td>V444_1</td>\n",
       "      <td>1</td>\n",
       "      <td>DTD</td>\n",
       "      <td>5</td>\n",
       "      <td>0</td>\n",
       "      <td>V55555555555555_8</td>\n",
       "      <td>1683388</td>\n",
       "      <td>PLANT03</td>\n",
       "      <td>PORT09</td>\n",
       "      <td>245</td>\n",
       "      <td>0.294265</td>\n",
       "    </tr>\n",
       "    <tr>\n",
       "      <th>9213</th>\n",
       "      <td>1.447145e+09</td>\n",
       "      <td>2013-05-26</td>\n",
       "      <td>PORT04</td>\n",
       "      <td>V444_1</td>\n",
       "      <td>1</td>\n",
       "      <td>DTD</td>\n",
       "      <td>5</td>\n",
       "      <td>0</td>\n",
       "      <td>V55555555555555_8</td>\n",
       "      <td>1683430</td>\n",
       "      <td>PLANT03</td>\n",
       "      <td>PORT09</td>\n",
       "      <td>278</td>\n",
       "      <td>2.480000</td>\n",
       "    </tr>\n",
       "    <tr>\n",
       "      <th>9214</th>\n",
       "      <td>1.447328e+09</td>\n",
       "      <td>2013-05-26</td>\n",
       "      <td>PORT04</td>\n",
       "      <td>V444_1</td>\n",
       "      <td>1</td>\n",
       "      <td>DTD</td>\n",
       "      <td>5</td>\n",
       "      <td>0</td>\n",
       "      <td>V55555555555555_8</td>\n",
       "      <td>1683424</td>\n",
       "      <td>PLANT03</td>\n",
       "      <td>PORT09</td>\n",
       "      <td>317</td>\n",
       "      <td>1.960000</td>\n",
       "    </tr>\n",
       "  </tbody>\n",
       "</table>\n",
       "</div>"
      ],
      "text/plain": [
       "          Order ID Order Date Origin Port Carrier  TPT Service Level  \\\n",
       "9210  1.447305e+09 2013-05-26      PORT04  V444_1    1           DTD   \n",
       "9211  1.447319e+09 2013-05-26      PORT04  V444_1    1           DTD   \n",
       "9212  1.447322e+09 2013-05-26      PORT04  V444_1    1           DTD   \n",
       "9213  1.447145e+09 2013-05-26      PORT04  V444_1    1           DTD   \n",
       "9214  1.447328e+09 2013-05-26      PORT04  V444_1    1           DTD   \n",
       "\n",
       "      Ship ahead day count  Ship Late Day count           Customer  \\\n",
       "9210                     5                    0  V55555555555555_8   \n",
       "9211                     5                    0  V55555555555555_8   \n",
       "9212                     5                    0  V55555555555555_8   \n",
       "9213                     5                    0  V55555555555555_8   \n",
       "9214                     5                    0  V55555555555555_8   \n",
       "\n",
       "      Product ID Plant Code Destination Port  Unit quantity    Weight  \n",
       "9210     1683388    PLANT03           PORT09            339  2.354118  \n",
       "9211     1683388    PLANT03           PORT09            339  2.354118  \n",
       "9212     1683388    PLANT03           PORT09            245  0.294265  \n",
       "9213     1683430    PLANT03           PORT09            278  2.480000  \n",
       "9214     1683424    PLANT03           PORT09            317  1.960000  "
      ]
     },
     "execution_count": 101,
     "metadata": {},
     "output_type": "execute_result"
    }
   ],
   "source": [
    "# checking the last 5 columns\n",
    "\n",
    "df.tail()"
   ]
  },
  {
   "cell_type": "code",
   "execution_count": 102,
   "metadata": {},
   "outputs": [
    {
     "data": {
      "text/plain": [
       "Order ID                       float64\n",
       "Order Date              datetime64[ns]\n",
       "Origin Port                     object\n",
       "Carrier                         object\n",
       "TPT                              int64\n",
       "Service Level                   object\n",
       "Ship ahead day count             int64\n",
       "Ship Late Day count              int64\n",
       "Customer                        object\n",
       "Product ID                       int64\n",
       "Plant Code                      object\n",
       "Destination Port                object\n",
       "Unit quantity                    int64\n",
       "Weight                         float64\n",
       "dtype: object"
      ]
     },
     "execution_count": 102,
     "metadata": {},
     "output_type": "execute_result"
    }
   ],
   "source": [
    "# checking the data types of the columns\n",
    "\n",
    "df.dtypes"
   ]
  },
  {
   "cell_type": "code",
   "execution_count": 103,
   "metadata": {},
   "outputs": [
    {
     "data": {
      "text/plain": [
       "Order ID                9215\n",
       "Order Date              9215\n",
       "Origin Port             9215\n",
       "Carrier                 9215\n",
       "TPT                     9215\n",
       "Service Level           9215\n",
       "Ship ahead day count    9215\n",
       "Ship Late Day count     9215\n",
       "Customer                9215\n",
       "Product ID              9215\n",
       "Plant Code              9215\n",
       "Destination Port        9215\n",
       "Unit quantity           9215\n",
       "Weight                  9215\n",
       "dtype: int64"
      ]
     },
     "execution_count": 103,
     "metadata": {},
     "output_type": "execute_result"
    }
   ],
   "source": [
    "# count the number of items per column\n",
    "\n",
    "df.count()"
   ]
  },
  {
   "cell_type": "code",
   "execution_count": 104,
   "metadata": {},
   "outputs": [
    {
     "name": "stdout",
     "output_type": "stream",
     "text": [
      "<class 'pandas.core.frame.DataFrame'>\n",
      "RangeIndex: 9215 entries, 0 to 9214\n",
      "Data columns (total 14 columns):\n",
      " #   Column                Non-Null Count  Dtype         \n",
      "---  ------                --------------  -----         \n",
      " 0   Order ID              9215 non-null   float64       \n",
      " 1   Order Date            9215 non-null   datetime64[ns]\n",
      " 2   Origin Port           9215 non-null   object        \n",
      " 3   Carrier               9215 non-null   object        \n",
      " 4   TPT                   9215 non-null   int64         \n",
      " 5   Service Level         9215 non-null   object        \n",
      " 6   Ship ahead day count  9215 non-null   int64         \n",
      " 7   Ship Late Day count   9215 non-null   int64         \n",
      " 8   Customer              9215 non-null   object        \n",
      " 9   Product ID            9215 non-null   int64         \n",
      " 10  Plant Code            9215 non-null   object        \n",
      " 11  Destination Port      9215 non-null   object        \n",
      " 12  Unit quantity         9215 non-null   int64         \n",
      " 13  Weight                9215 non-null   float64       \n",
      "dtypes: datetime64[ns](1), float64(2), int64(5), object(6)\n",
      "memory usage: 1008.0+ KB\n"
     ]
    }
   ],
   "source": [
    "# more information about the dataset\n",
    "\n",
    "df.info()"
   ]
  },
  {
   "cell_type": "code",
   "execution_count": 105,
   "metadata": {},
   "outputs": [],
   "source": [
    "# Let's replace the empty strings with NaN values\n",
    "\n",
    "df = df.replace(' ', np.nan)"
   ]
  },
  {
   "cell_type": "code",
   "execution_count": 106,
   "metadata": {},
   "outputs": [],
   "source": [
    "# Let's replace the question marks (?) with NaN values\n",
    "\n",
    "df = df.replace('?', np.nan)"
   ]
  },
  {
   "cell_type": "code",
   "execution_count": 107,
   "metadata": {},
   "outputs": [
    {
     "data": {
      "text/plain": [
       "Order ID                9215\n",
       "Order Date                 1\n",
       "Origin Port                3\n",
       "Carrier                    3\n",
       "TPT                        5\n",
       "Service Level              3\n",
       "Ship ahead day count       5\n",
       "Ship Late Day count        4\n",
       "Customer                  46\n",
       "Product ID               772\n",
       "Plant Code                 7\n",
       "Destination Port           1\n",
       "Unit quantity           2624\n",
       "Weight                  5899\n",
       "dtype: int64"
      ]
     },
     "execution_count": 107,
     "metadata": {},
     "output_type": "execute_result"
    }
   ],
   "source": [
    "# determine the number of unique categories in each variable: The output of the preceding code shows the number of distinct categories per variable, that is, the cardinality:\n",
    "\n",
    "df.nunique()"
   ]
  },
  {
   "cell_type": "code",
   "execution_count": 108,
   "metadata": {},
   "outputs": [
    {
     "data": {
      "text/plain": [
       "Text(0.5, 1.0, 'Cardinality')"
      ]
     },
     "execution_count": 108,
     "metadata": {},
     "output_type": "execute_result"
    },
    {
     "data": {
      "image/png": "[encoded data removed]",
      "text/plain": [
       "<Figure size 864x432 with 1 Axes>"
      ]
     },
     "metadata": {
      "needs_background": "light"
     },
     "output_type": "display_data"
    }
   ],
   "source": [
    "# plot the cardinality:\n",
    "\n",
    "df.nunique().plot.bar(figsize=(12,6))\n",
    "plt.ylabel('Number of unique categories')\n",
    "plt.xlabel('Variables')\n",
    "plt.title('Cardinality')"
   ]
  },
  {
   "cell_type": "code",
   "execution_count": 109,
   "metadata": {},
   "outputs": [
    {
     "name": "stdout",
     "output_type": "stream",
     "text": [
      "PORT04    0.981118\n",
      "PORT09    0.018774\n",
      "PORT05    0.000109\n",
      "Name: Origin Port, dtype: float64\n"
     ]
    },
    {
     "data": {
      "image/png": "[encoded data removed]",
      "text/plain": [
       "<Figure size 288x288 with 1 Axes>"
      ]
     },
     "metadata": {
      "needs_background": "light"
     },
     "output_type": "display_data"
    }
   ],
   "source": [
    "# Let's make a bar plot showing the frequency of each category and highlight the 5% mark with a red line:\n",
    "\n",
    "df['Origin Port'].unique()\n",
    "label_freq = df['Origin Port'].value_counts() / len(df)\n",
    "print(label_freq)\n",
    "fig = label_freq.sort_values(ascending=False).plot.bar()\n",
    "fig.axhline(y=0.05, color='red')\n",
    "fig.set_ylabel('percentage of Origin Port within each category')\n",
    "fig.set_xlabel('Variable: class')\n",
    "fig.set_title('Identifying Rare Categories')\n",
    "plt.show()"
   ]
  },
  {
   "cell_type": "code",
   "execution_count": 110,
   "metadata": {},
   "outputs": [
    {
     "name": "stdout",
     "output_type": "stream",
     "text": [
      "V444_0    0.679761\n",
      "V444_1    0.227564\n",
      "V44_3     0.092675\n",
      "Name: Carrier, dtype: float64\n"
     ]
    },
    {
     "data": {
      "image/png": "[encoded data removed]",
      "text/plain": [
       "<Figure size 288x288 with 1 Axes>"
      ]
     },
     "metadata": {
      "needs_background": "light"
     },
     "output_type": "display_data"
    }
   ],
   "source": [
    "df['Carrier'].unique()\n",
    "label_freq = df['Carrier'].value_counts() / len(df)\n",
    "print(label_freq)\n",
    "fig = label_freq.sort_values(ascending=False).plot.bar()\n",
    "fig.axhline(y=0.05, color='red')\n",
    "fig.set_ylabel('percentage of Carrier within each category')\n",
    "fig.set_xlabel('Variable: class')\n",
    "fig.set_title('Identifying Rare Categories')\n",
    "plt.show()"
   ]
  },
  {
   "cell_type": "code",
   "execution_count": 111,
   "metadata": {},
   "outputs": [
    {
     "name": "stdout",
     "output_type": "stream",
     "text": [
      "DTP    0.674769\n",
      "DTD    0.232556\n",
      "CRF    0.092675\n",
      "Name: Service Level, dtype: float64\n"
     ]
    },
    {
     "data": {
      "image/png": "[encoded data removed]",
      "text/plain": [
       "<Figure size 288x288 with 1 Axes>"
      ]
     },
     "metadata": {
      "needs_background": "light"
     },
     "output_type": "display_data"
    }
   ],
   "source": [
    "df['Service Level'].unique()\n",
    "label_freq = df['Service Level'].value_counts() / len(df)\n",
    "print(label_freq)\n",
    "fig = label_freq.sort_values(ascending=False).plot.bar()\n",
    "fig.axhline(y=0.05, color='red')\n",
    "fig.set_ylabel('percentage of Service Level within each category')\n",
    "fig.set_xlabel('Variable: class')\n",
    "fig.set_title('Identifying Rare Categories')\n",
    "plt.show()"
   ]
  },
  {
   "cell_type": "code",
   "execution_count": 112,
   "metadata": {},
   "outputs": [
    {
     "name": "stdout",
     "output_type": "stream",
     "text": [
      "V55555555555555_8         0.105914\n",
      "V555555_6                 0.082691\n",
      "V55555_2                  0.082257\n",
      "V5555555_22               0.075203\n",
      "V5555_33                  0.074986\n",
      "V55555555_7               0.067065\n",
      "V55555555_5               0.057623\n",
      "V555555555_27             0.056538\n",
      "V555555555555555_29       0.041780\n",
      "V55555_4                  0.039067\n",
      "V555555555_14             0.038090\n",
      "V55555_26                 0.036896\n",
      "V55555555_32              0.026153\n",
      "V55555555555_28           0.022029\n",
      "V555555555555555555_45    0.021487\n",
      "V55_13                    0.019316\n",
      "V5555555_30               0.017689\n",
      "V555555555_3              0.015301\n",
      "V55555_53                 0.015084\n",
      "V555555_24                0.013565\n",
      "V5555555_19               0.012805\n",
      "V555555555555555555_17    0.012697\n",
      "V555_15                   0.011937\n",
      "V55555555_0               0.011069\n",
      "V5555555_12               0.009658\n",
      "V555555555555_31          0.004883\n",
      "V5555_20                  0.003581\n",
      "V555555555555555555_42    0.003256\n",
      "V5555_36                  0.003147\n",
      "V5555_25                  0.002713\n",
      "V5555555555_1             0.002387\n",
      "V55555555_9               0.001845\n",
      "V55555_10                 0.001845\n",
      "V555555555_35             0.001519\n",
      "V5555555555555_16         0.001302\n",
      "V555_41                   0.001194\n",
      "V555555_11                0.001085\n",
      "V555555_34                0.001085\n",
      "V555555555555555_44       0.000977\n",
      "V5555_38                  0.000651\n",
      "V555555_40                0.000543\n",
      "V555555555555555555_46    0.000326\n",
      "V55_37                    0.000326\n",
      "V55_47                    0.000217\n",
      "V555555555555555_23       0.000109\n",
      "V55_39                    0.000109\n",
      "Name: Customer, dtype: float64\n"
     ]
    },
    {
     "data": {
      "image/png": "[encoded data removed]",
      "text/plain": [
       "<Figure size 1224x1224 with 1 Axes>"
      ]
     },
     "metadata": {
      "needs_background": "light"
     },
     "output_type": "display_data"
    }
   ],
   "source": [
    "plt.rcParams['figure.figsize']=(17,17)\n",
    "\n",
    "df['Customer'].unique()\n",
    "label_freq = df['Customer'].value_counts() / len(df)\n",
    "print(label_freq)\n",
    "fig = label_freq.sort_values(ascending=False).plot.bar()\n",
    "fig.axhline(y=0.05, color='red')\n",
    "fig.set_ylabel('percentage of Customer within each category')\n",
    "fig.set_xlabel('Variable: class')\n",
    "fig.set_title('Identifying Rare Categories')\n",
    "plt.show()"
   ]
  },
  {
   "cell_type": "code",
   "execution_count": 113,
   "metadata": {},
   "outputs": [
    {
     "name": "stdout",
     "output_type": "stream",
     "text": [
      "PLANT03    0.926858\n",
      "PLANT12    0.032556\n",
      "PLANT16    0.018774\n",
      "PLANT08    0.011069\n",
      "PLANT13    0.009333\n",
      "PLANT09    0.001302\n",
      "PLANT04    0.000109\n",
      "Name: Plant Code, dtype: float64\n"
     ]
    },
    {
     "data": {
      "image/png": "[encoded data removed]",
      "text/plain": [
       "<Figure size 576x576 with 1 Axes>"
      ]
     },
     "metadata": {
      "needs_background": "light"
     },
     "output_type": "display_data"
    }
   ],
   "source": [
    "plt.rcParams['figure.figsize']=(8,8)\n",
    "\n",
    "df['Plant Code'].unique()\n",
    "label_freq = df['Plant Code'].value_counts() / len(df)\n",
    "print(label_freq)\n",
    "fig = label_freq.sort_values(ascending=False).plot.bar()\n",
    "fig.axhline(y=0.05, color='red')\n",
    "fig.set_ylabel('percentage of Plant Code  within each category')\n",
    "fig.set_xlabel('Variable: class')\n",
    "fig.set_title('Identifying Rare Categories')\n",
    "plt.show()"
   ]
  },
  {
   "cell_type": "code",
   "execution_count": 114,
   "metadata": {},
   "outputs": [
    {
     "data": {
      "text/plain": [
       "Index(['Origin Port', 'Carrier', 'Service Level', 'Customer', 'Plant Code',\n",
       "       'Destination Port'],\n",
       "      dtype='object')"
      ]
     },
     "execution_count": 114,
     "metadata": {},
     "output_type": "execute_result"
    }
   ],
   "source": [
    "# display categorical features/columns \n",
    "\n",
    "categorical_columns = df.select_dtypes(include=[np.object0]).columns\n",
    "\n",
    "categorical_columns"
   ]
  },
  {
   "cell_type": "code",
   "execution_count": 115,
   "metadata": {},
   "outputs": [
    {
     "data": {
      "text/plain": [
       "Index(['Order ID', 'TPT', 'Ship ahead day count', 'Ship Late Day count',\n",
       "       'Product ID', 'Unit quantity', 'Weight'],\n",
       "      dtype='object')"
      ]
     },
     "execution_count": 115,
     "metadata": {},
     "output_type": "execute_result"
    }
   ],
   "source": [
    "# display numerical features/columns \n",
    "\n",
    "numerical_columns = df.select_dtypes(include=[np.number]).columns\n",
    "\n",
    "numerical_columns"
   ]
  },
  {
   "cell_type": "code",
   "execution_count": 116,
   "metadata": {},
   "outputs": [
    {
     "data": {
      "text/html": [
       "<div>\n",
       "<style scoped>\n",
       "    .dataframe tbody tr th:only-of-type {\n",
       "        vertical-align: middle;\n",
       "    }\n",
       "\n",
       "    .dataframe tbody tr th {\n",
       "        vertical-align: top;\n",
       "    }\n",
       "\n",
       "    .dataframe thead th {\n",
       "        text-align: right;\n",
       "    }\n",
       "</style>\n",
       "<table border=\"1\" class=\"dataframe\">\n",
       "  <thead>\n",
       "    <tr style=\"text-align: right;\">\n",
       "      <th></th>\n",
       "      <th>count</th>\n",
       "      <th>mean</th>\n",
       "      <th>std</th>\n",
       "      <th>min</th>\n",
       "      <th>25%</th>\n",
       "      <th>50%</th>\n",
       "      <th>75%</th>\n",
       "      <th>max</th>\n",
       "    </tr>\n",
       "  </thead>\n",
       "  <tbody>\n",
       "    <tr>\n",
       "      <th>Order ID</th>\n",
       "      <td>9215.0</td>\n",
       "      <td>1.447274e+09</td>\n",
       "      <td>83816.292790</td>\n",
       "      <td>1.447126e+09</td>\n",
       "      <td>1.447197e+09</td>\n",
       "      <td>1.447276e+09</td>\n",
       "      <td>1.447346e+09</td>\n",
       "      <td>1.447425e+09</td>\n",
       "    </tr>\n",
       "    <tr>\n",
       "      <th>TPT</th>\n",
       "      <td>9215.0</td>\n",
       "      <td>1.717743e+00</td>\n",
       "      <td>0.630500</td>\n",
       "      <td>0.000000e+00</td>\n",
       "      <td>1.000000e+00</td>\n",
       "      <td>2.000000e+00</td>\n",
       "      <td>2.000000e+00</td>\n",
       "      <td>4.000000e+00</td>\n",
       "    </tr>\n",
       "    <tr>\n",
       "      <th>Ship ahead day count</th>\n",
       "      <td>9215.0</td>\n",
       "      <td>1.852306e+00</td>\n",
       "      <td>1.922302</td>\n",
       "      <td>0.000000e+00</td>\n",
       "      <td>0.000000e+00</td>\n",
       "      <td>3.000000e+00</td>\n",
       "      <td>3.000000e+00</td>\n",
       "      <td>6.000000e+00</td>\n",
       "    </tr>\n",
       "    <tr>\n",
       "      <th>Ship Late Day count</th>\n",
       "      <td>9215.0</td>\n",
       "      <td>3.993489e-02</td>\n",
       "      <td>0.319625</td>\n",
       "      <td>0.000000e+00</td>\n",
       "      <td>0.000000e+00</td>\n",
       "      <td>0.000000e+00</td>\n",
       "      <td>0.000000e+00</td>\n",
       "      <td>6.000000e+00</td>\n",
       "    </tr>\n",
       "    <tr>\n",
       "      <th>Product ID</th>\n",
       "      <td>9215.0</td>\n",
       "      <td>1.680536e+06</td>\n",
       "      <td>15265.927778</td>\n",
       "      <td>1.613321e+06</td>\n",
       "      <td>1.669702e+06</td>\n",
       "      <td>1.683636e+06</td>\n",
       "      <td>1.689554e+06</td>\n",
       "      <td>1.702654e+06</td>\n",
       "    </tr>\n",
       "    <tr>\n",
       "      <th>Unit quantity</th>\n",
       "      <td>9215.0</td>\n",
       "      <td>3.202747e+03</td>\n",
       "      <td>15965.622260</td>\n",
       "      <td>2.350000e+02</td>\n",
       "      <td>3.300000e+02</td>\n",
       "      <td>4.770000e+02</td>\n",
       "      <td>1.275500e+03</td>\n",
       "      <td>5.618470e+05</td>\n",
       "    </tr>\n",
       "    <tr>\n",
       "      <th>Weight</th>\n",
       "      <td>9215.0</td>\n",
       "      <td>1.987169e+01</td>\n",
       "      <td>66.569064</td>\n",
       "      <td>0.000000e+00</td>\n",
       "      <td>1.407430e+00</td>\n",
       "      <td>4.440000e+00</td>\n",
       "      <td>1.332567e+01</td>\n",
       "      <td>2.338405e+03</td>\n",
       "    </tr>\n",
       "  </tbody>\n",
       "</table>\n",
       "</div>"
      ],
      "text/plain": [
       "                       count          mean           std           min  \\\n",
       "Order ID              9215.0  1.447274e+09  83816.292790  1.447126e+09   \n",
       "TPT                   9215.0  1.717743e+00      0.630500  0.000000e+00   \n",
       "Ship ahead day count  9215.0  1.852306e+00      1.922302  0.000000e+00   \n",
       "Ship Late Day count   9215.0  3.993489e-02      0.319625  0.000000e+00   \n",
       "Product ID            9215.0  1.680536e+06  15265.927778  1.613321e+06   \n",
       "Unit quantity         9215.0  3.202747e+03  15965.622260  2.350000e+02   \n",
       "Weight                9215.0  1.987169e+01     66.569064  0.000000e+00   \n",
       "\n",
       "                               25%           50%           75%           max  \n",
       "Order ID              1.447197e+09  1.447276e+09  1.447346e+09  1.447425e+09  \n",
       "TPT                   1.000000e+00  2.000000e+00  2.000000e+00  4.000000e+00  \n",
       "Ship ahead day count  0.000000e+00  3.000000e+00  3.000000e+00  6.000000e+00  \n",
       "Ship Late Day count   0.000000e+00  0.000000e+00  0.000000e+00  6.000000e+00  \n",
       "Product ID            1.669702e+06  1.683636e+06  1.689554e+06  1.702654e+06  \n",
       "Unit quantity         3.300000e+02  4.770000e+02  1.275500e+03  5.618470e+05  \n",
       "Weight                1.407430e+00  4.440000e+00  1.332567e+01  2.338405e+03  "
      ]
     },
     "execution_count": 116,
     "metadata": {},
     "output_type": "execute_result"
    }
   ],
   "source": [
    "# check summary statistics of all numerical columns\n",
    "\n",
    "df.describe().T"
   ]
  },
  {
   "cell_type": "code",
   "execution_count": 117,
   "metadata": {},
   "outputs": [
    {
     "data": {
      "text/plain": [
       "0"
      ]
     },
     "execution_count": 117,
     "metadata": {},
     "output_type": "execute_result"
    }
   ],
   "source": [
    "# check for duplicate rows in the dataset\n",
    "\n",
    "df.duplicated().sum() "
   ]
  },
  {
   "cell_type": "code",
   "execution_count": 118,
   "metadata": {},
   "outputs": [
    {
     "data": {
      "text/plain": [
       "<AxesSubplot:>"
      ]
     },
     "execution_count": 118,
     "metadata": {},
     "output_type": "execute_result"
    },
    {
     "data": {
      "image/png": "[encoded data removed]",
      "text/plain": [
       "<Figure size 288x288 with 1 Axes>"
      ]
     },
     "metadata": {
      "needs_background": "light"
     },
     "output_type": "display_data"
    }
   ],
   "source": [
    "# Check the hist of columns\n",
    "plt.rcParams['figure.figsize']=(4,4)\n",
    "df['Origin Port'].hist() # matplotlib"
   ]
  },
  {
   "cell_type": "code",
   "execution_count": 119,
   "metadata": {},
   "outputs": [
    {
     "data": {
      "text/plain": [
       "<AxesSubplot:>"
      ]
     },
     "execution_count": 119,
     "metadata": {},
     "output_type": "execute_result"
    },
    {
     "data": {
      "image/png": "[encoded data removed]",
      "text/plain": [
       "<Figure size 288x288 with 1 Axes>"
      ]
     },
     "metadata": {
      "needs_background": "light"
     },
     "output_type": "display_data"
    }
   ],
   "source": [
    "df['Carrier'].hist() # matplotlib "
   ]
  },
  {
   "cell_type": "code",
   "execution_count": 120,
   "metadata": {},
   "outputs": [
    {
     "data": {
      "text/plain": [
       "Order ID                0\n",
       "Order Date              0\n",
       "Origin Port             0\n",
       "Carrier                 0\n",
       "TPT                     0\n",
       "Service Level           0\n",
       "Ship ahead day count    0\n",
       "Ship Late Day count     0\n",
       "Customer                0\n",
       "Product ID              0\n",
       "Plant Code              0\n",
       "Destination Port        0\n",
       "Unit quantity           0\n",
       "Weight                  0\n",
       "dtype: int64"
      ]
     },
     "execution_count": 120,
     "metadata": {},
     "output_type": "execute_result"
    }
   ],
   "source": [
    "# check missing values \n",
    "\n",
    "df.isnull().sum()"
   ]
  },
  {
   "cell_type": "code",
   "execution_count": 121,
   "metadata": {},
   "outputs": [
    {
     "data": {
      "text/plain": [
       "[]"
      ]
     },
     "execution_count": 121,
     "metadata": {},
     "output_type": "execute_result"
    }
   ],
   "source": [
    "# print names or check all columns which have null values \n",
    "\n",
    "[val for val in df.columns if df[val].isnull().sum() > 0]"
   ]
  },
  {
   "cell_type": "code",
   "execution_count": 122,
   "metadata": {},
   "outputs": [
    {
     "name": "stderr",
     "output_type": "stream",
     "text": [
      "c:\\Users\\ACT\\AppData\\Local\\Programs\\Python\\Python310\\lib\\site-packages\\seaborn\\_decorators.py:36: FutureWarning:\n",
      "\n",
      "Pass the following variable as a keyword arg: x. From version 0.12, the only valid positional argument will be `data`, and passing other arguments without an explicit keyword will result in an error or misinterpretation.\n",
      "\n"
     ]
    },
    {
     "data": {
      "image/png": "[encoded data removed]",
      "text/plain": [
       "<Figure size 288x288 with 1 Axes>"
      ]
     },
     "metadata": {
      "needs_background": "light"
     },
     "output_type": "display_data"
    }
   ],
   "source": [
    "# Check for outliers: ->  An outlier is a data point in a dataset that is distant from all other observations.\n",
    "\n",
    "# checking of outlier using boxplot for one numerical column called Ship ahead day count\n",
    "\n",
    "sns.boxplot(df['Ship ahead day count'])\n",
    "plt.show()"
   ]
  },
  {
   "cell_type": "code",
   "execution_count": 123,
   "metadata": {},
   "outputs": [
    {
     "name": "stderr",
     "output_type": "stream",
     "text": [
      "c:\\Users\\ACT\\AppData\\Local\\Programs\\Python\\Python310\\lib\\site-packages\\seaborn\\_decorators.py:36: FutureWarning:\n",
      "\n",
      "Pass the following variable as a keyword arg: x. From version 0.12, the only valid positional argument will be `data`, and passing other arguments without an explicit keyword will result in an error or misinterpretation.\n",
      "\n"
     ]
    },
    {
     "data": {
      "image/png": "[encoded data removed]",
      "text/plain": [
       "<Figure size 288x288 with 1 Axes>"
      ]
     },
     "metadata": {
      "needs_background": "light"
     },
     "output_type": "display_data"
    }
   ],
   "source": [
    "# checking of outlier using boxplot for one numerical column called Ship Late Day count\n",
    "\n",
    "sns.boxplot(df['Ship Late Day count'])\n",
    "plt.show()"
   ]
  },
  {
   "cell_type": "code",
   "execution_count": 124,
   "metadata": {},
   "outputs": [
    {
     "data": {
      "text/plain": [
       "(array([3747, 3787, 3899, 7054], dtype=int64),)"
      ]
     },
     "execution_count": 124,
     "metadata": {},
     "output_type": "execute_result"
    }
   ],
   "source": [
    "# checking the  position of outlier using boxplot for one numerical column called Ship Late Day count\n",
    "\n",
    "np.where(df['Ship Late Day count'] == 6)"
   ]
  },
  {
   "cell_type": "code",
   "execution_count": 130,
   "metadata": {},
   "outputs": [
    {
     "name": "stderr",
     "output_type": "stream",
     "text": [
      "C:\\Users\\ACT\\AppData\\Local\\Temp\\ipykernel_11600\\3520671375.py:3: FutureWarning:\n",
      "\n",
      "Dropping of nuisance columns in DataFrame reductions (with 'numeric_only=None') is deprecated; in a future version this will raise TypeError.  Select only valid columns before calling the reduction.\n",
      "\n"
     ]
    },
    {
     "data": {
      "text/plain": [
       "Order ID                 0.082657\n",
       "TPT                     -0.389871\n",
       "Ship ahead day count     0.344254\n",
       "Ship Late Day count      9.862533\n",
       "Product ID              -0.993632\n",
       "Unit quantity           18.138895\n",
       "Weight                  11.126610\n",
       "dtype: float64"
      ]
     },
     "execution_count": 130,
     "metadata": {},
     "output_type": "execute_result"
    }
   ],
   "source": [
    "# check skewness\n",
    "\n",
    "df.skew()"
   ]
  },
  {
   "cell_type": "code",
   "execution_count": 129,
   "metadata": {},
   "outputs": [
    {
     "name": "stderr",
     "output_type": "stream",
     "text": [
      "C:\\Users\\ACT\\AppData\\Local\\Temp\\ipykernel_11600\\2913706174.py:3: FutureWarning:\n",
      "\n",
      "Dropping of nuisance columns in DataFrame reductions (with 'numeric_only=None') is deprecated; in a future version this will raise TypeError.  Select only valid columns before calling the reduction.\n",
      "\n"
     ]
    },
    {
     "data": {
      "text/plain": [
       "Order ID                 -1.264607\n",
       "TPT                       2.647441\n",
       "Ship ahead day count     -1.390967\n",
       "Ship Late Day count     112.804871\n",
       "Product ID                1.088069\n",
       "Unit quantity           460.520917\n",
       "Weight                  225.882912\n",
       "dtype: float64"
      ]
     },
     "execution_count": 129,
     "metadata": {},
     "output_type": "execute_result"
    }
   ],
   "source": [
    "# check kurtosis\n",
    "\n",
    "df.kurt()"
   ]
  },
  {
   "cell_type": "code",
   "execution_count": 131,
   "metadata": {},
   "outputs": [
    {
     "data": {
      "text/html": [
       "<div>\n",
       "<style scoped>\n",
       "    .dataframe tbody tr th:only-of-type {\n",
       "        vertical-align: middle;\n",
       "    }\n",
       "\n",
       "    .dataframe tbody tr th {\n",
       "        vertical-align: top;\n",
       "    }\n",
       "\n",
       "    .dataframe thead th {\n",
       "        text-align: right;\n",
       "    }\n",
       "</style>\n",
       "<table border=\"1\" class=\"dataframe\">\n",
       "  <thead>\n",
       "    <tr style=\"text-align: right;\">\n",
       "      <th></th>\n",
       "      <th>Order ID</th>\n",
       "      <th>TPT</th>\n",
       "      <th>Ship ahead day count</th>\n",
       "      <th>Ship Late Day count</th>\n",
       "      <th>Product ID</th>\n",
       "      <th>Unit quantity</th>\n",
       "      <th>Weight</th>\n",
       "    </tr>\n",
       "  </thead>\n",
       "  <tbody>\n",
       "    <tr>\n",
       "      <th>Order ID</th>\n",
       "      <td>1.000000</td>\n",
       "      <td>-0.045065</td>\n",
       "      <td>-0.019037</td>\n",
       "      <td>-0.025366</td>\n",
       "      <td>0.035935</td>\n",
       "      <td>0.005610</td>\n",
       "      <td>-0.018071</td>\n",
       "    </tr>\n",
       "    <tr>\n",
       "      <th>TPT</th>\n",
       "      <td>-0.045065</td>\n",
       "      <td>1.000000</td>\n",
       "      <td>-0.154838</td>\n",
       "      <td>0.041399</td>\n",
       "      <td>-0.242310</td>\n",
       "      <td>0.086323</td>\n",
       "      <td>-0.030720</td>\n",
       "    </tr>\n",
       "    <tr>\n",
       "      <th>Ship ahead day count</th>\n",
       "      <td>-0.019037</td>\n",
       "      <td>-0.154838</td>\n",
       "      <td>1.000000</td>\n",
       "      <td>-0.022371</td>\n",
       "      <td>0.019960</td>\n",
       "      <td>-0.073901</td>\n",
       "      <td>0.018590</td>\n",
       "    </tr>\n",
       "    <tr>\n",
       "      <th>Ship Late Day count</th>\n",
       "      <td>-0.025366</td>\n",
       "      <td>0.041399</td>\n",
       "      <td>-0.022371</td>\n",
       "      <td>1.000000</td>\n",
       "      <td>-0.055374</td>\n",
       "      <td>-0.015532</td>\n",
       "      <td>-0.017252</td>\n",
       "    </tr>\n",
       "    <tr>\n",
       "      <th>Product ID</th>\n",
       "      <td>0.035935</td>\n",
       "      <td>-0.242310</td>\n",
       "      <td>0.019960</td>\n",
       "      <td>-0.055374</td>\n",
       "      <td>1.000000</td>\n",
       "      <td>0.045801</td>\n",
       "      <td>0.018953</td>\n",
       "    </tr>\n",
       "    <tr>\n",
       "      <th>Unit quantity</th>\n",
       "      <td>0.005610</td>\n",
       "      <td>0.086323</td>\n",
       "      <td>-0.073901</td>\n",
       "      <td>-0.015532</td>\n",
       "      <td>0.045801</td>\n",
       "      <td>1.000000</td>\n",
       "      <td>0.344520</td>\n",
       "    </tr>\n",
       "    <tr>\n",
       "      <th>Weight</th>\n",
       "      <td>-0.018071</td>\n",
       "      <td>-0.030720</td>\n",
       "      <td>0.018590</td>\n",
       "      <td>-0.017252</td>\n",
       "      <td>0.018953</td>\n",
       "      <td>0.344520</td>\n",
       "      <td>1.000000</td>\n",
       "    </tr>\n",
       "  </tbody>\n",
       "</table>\n",
       "</div>"
      ],
      "text/plain": [
       "                      Order ID       TPT  Ship ahead day count  \\\n",
       "Order ID              1.000000 -0.045065             -0.019037   \n",
       "TPT                  -0.045065  1.000000             -0.154838   \n",
       "Ship ahead day count -0.019037 -0.154838              1.000000   \n",
       "Ship Late Day count  -0.025366  0.041399             -0.022371   \n",
       "Product ID            0.035935 -0.242310              0.019960   \n",
       "Unit quantity         0.005610  0.086323             -0.073901   \n",
       "Weight               -0.018071 -0.030720              0.018590   \n",
       "\n",
       "                      Ship Late Day count  Product ID  Unit quantity    Weight  \n",
       "Order ID                        -0.025366    0.035935       0.005610 -0.018071  \n",
       "TPT                              0.041399   -0.242310       0.086323 -0.030720  \n",
       "Ship ahead day count            -0.022371    0.019960      -0.073901  0.018590  \n",
       "Ship Late Day count              1.000000   -0.055374      -0.015532 -0.017252  \n",
       "Product ID                      -0.055374    1.000000       0.045801  0.018953  \n",
       "Unit quantity                   -0.015532    0.045801       1.000000  0.344520  \n",
       "Weight                          -0.017252    0.018953       0.344520  1.000000  "
      ]
     },
     "execution_count": 131,
     "metadata": {},
     "output_type": "execute_result"
    }
   ],
   "source": [
    "# checking the correlation in the dataset\n",
    "\n",
    "df.corr()"
   ]
  },
  {
   "cell_type": "code",
   "execution_count": 134,
   "metadata": {},
   "outputs": [
    {
     "data": {
      "image/png": "[encoded data removed]",
      "text/plain": [
       "<Figure size 576x576 with 2 Axes>"
      ]
     },
     "metadata": {
      "needs_background": "light"
     },
     "output_type": "display_data"
    }
   ],
   "source": [
    "plt.rcParams['figure.figsize'] = (8,8)\n",
    "e = df.corr()\n",
    "top_correlated_features = e.index\n",
    "g = sns.heatmap(df[top_correlated_features].corr(), annot=True, cmap='bone_r')"
   ]
  },
  {
   "cell_type": "code",
   "execution_count": 135,
   "metadata": {},
   "outputs": [
    {
     "data": {
      "text/plain": [
       "<seaborn.axisgrid.PairGrid at 0x1f75652c7c0>"
      ]
     },
     "execution_count": 135,
     "metadata": {},
     "output_type": "execute_result"
    },
    {
     "data": {
      "image/png": "[encoded data removed]",
      "text/plain": [
       "<Figure size 1260x1260 with 56 Axes>"
      ]
     },
     "metadata": {
      "needs_background": "light"
     },
     "output_type": "display_data"
    }
   ],
   "source": [
    "# pairplot of every feature in the dataset\n",
    "\n",
    "sns.pairplot(df)\n",
    "plt.show()"
   ]
  },
  {
   "cell_type": "code",
   "execution_count": 140,
   "metadata": {},
   "outputs": [
    {
     "name": "stderr",
     "output_type": "stream",
     "text": [
      "c:\\Users\\ACT\\AppData\\Local\\Programs\\Python\\Python310\\lib\\site-packages\\seaborn\\_decorators.py:36: FutureWarning:\n",
      "\n",
      "Pass the following variables as keyword args: x, y. From version 0.12, the only valid positional argument will be `data`, and passing other arguments without an explicit keyword will result in an error or misinterpretation.\n",
      "\n"
     ]
    },
    {
     "data": {
      "text/plain": [
       "<AxesSubplot:xlabel='Ship ahead day count', ylabel='Unit quantity'>"
      ]
     },
     "execution_count": 140,
     "metadata": {},
     "output_type": "execute_result"
    },
    {
     "data": {
      "image/png": "[encoded data removed]",
      "text/plain": [
       "<Figure size 576x576 with 1 Axes>"
      ]
     },
     "metadata": {
      "needs_background": "light"
     },
     "output_type": "display_data"
    }
   ],
   "source": [
    "# visualization of ship ahead day count and Unit quantity\n",
    "\n",
    "sns.barplot('Ship ahead day count', 'Unit quantity', data=df)"
   ]
  },
  {
   "cell_type": "code",
   "execution_count": 142,
   "metadata": {},
   "outputs": [
    {
     "name": "stderr",
     "output_type": "stream",
     "text": [
      "c:\\Users\\ACT\\AppData\\Local\\Programs\\Python\\Python310\\lib\\site-packages\\seaborn\\_decorators.py:36: FutureWarning:\n",
      "\n",
      "Pass the following variables as keyword args: x, y. From version 0.12, the only valid positional argument will be `data`, and passing other arguments without an explicit keyword will result in an error or misinterpretation.\n",
      "\n"
     ]
    },
    {
     "data": {
      "text/plain": [
       "<AxesSubplot:xlabel='Ship Late Day count', ylabel='Unit quantity'>"
      ]
     },
     "execution_count": 142,
     "metadata": {},
     "output_type": "execute_result"
    },
    {
     "data": {
      "image/png": "[encoded data removed]",
      "text/plain": [
       "<Figure size 576x576 with 1 Axes>"
      ]
     },
     "metadata": {
      "needs_background": "light"
     },
     "output_type": "display_data"
    }
   ],
   "source": [
    "# visualization of ship ahead day count and Unit quantity\n",
    "\n",
    "sns.barplot('Ship Late Day count', 'Unit quantity', data=df)"
   ]
  },
  {
   "cell_type": "code",
   "execution_count": 143,
   "metadata": {},
   "outputs": [
    {
     "name": "stderr",
     "output_type": "stream",
     "text": [
      "c:\\Users\\ACT\\AppData\\Local\\Programs\\Python\\Python310\\lib\\site-packages\\seaborn\\_decorators.py:36: FutureWarning:\n",
      "\n",
      "Pass the following variables as keyword args: x, y. From version 0.12, the only valid positional argument will be `data`, and passing other arguments without an explicit keyword will result in an error or misinterpretation.\n",
      "\n"
     ]
    },
    {
     "data": {
      "text/plain": [
       "<AxesSubplot:xlabel='Plant Code', ylabel='Weight'>"
      ]
     },
     "execution_count": 143,
     "metadata": {},
     "output_type": "execute_result"
    },
    {
     "data": {
      "image/png": "[encoded data removed]",
      "text/plain": [
       "<Figure size 576x576 with 1 Axes>"
      ]
     },
     "metadata": {
      "needs_background": "light"
     },
     "output_type": "display_data"
    }
   ],
   "source": [
    "# visualization of ship ahead day count and Unit quantity\n",
    "\n",
    "sns.barplot('Plant Code','Weight', data=df)"
   ]
  },
  {
   "cell_type": "code",
   "execution_count": 145,
   "metadata": {},
   "outputs": [
    {
     "data": {
      "text/plain": [
       "Index(['Order ID', 'Order Date', 'Origin Port', 'Carrier', 'TPT',\n",
       "       'Service Level', 'Ship ahead day count', 'Ship Late Day count',\n",
       "       'Customer', 'Product ID', 'Plant Code', 'Destination Port',\n",
       "       'Unit quantity', 'Weight'],\n",
       "      dtype='object')"
      ]
     },
     "execution_count": 145,
     "metadata": {},
     "output_type": "execute_result"
    }
   ],
   "source": [
    "df.columns"
   ]
  },
  {
   "cell_type": "code",
   "execution_count": 146,
   "metadata": {},
   "outputs": [
    {
     "name": "stderr",
     "output_type": "stream",
     "text": [
      "c:\\Users\\ACT\\AppData\\Local\\Programs\\Python\\Python310\\lib\\site-packages\\seaborn\\_decorators.py:36: FutureWarning:\n",
      "\n",
      "Pass the following variables as keyword args: x, y. From version 0.12, the only valid positional argument will be `data`, and passing other arguments without an explicit keyword will result in an error or misinterpretation.\n",
      "\n"
     ]
    },
    {
     "data": {
      "text/plain": [
       "<AxesSubplot:xlabel='Plant Code', ylabel='Ship Late Day count'>"
      ]
     },
     "execution_count": 146,
     "metadata": {},
     "output_type": "execute_result"
    },
    {
     "data": {
      "image/png": "[encoded data removed]",
      "text/plain": [
       "<Figure size 576x576 with 1 Axes>"
      ]
     },
     "metadata": {
      "needs_background": "light"
     },
     "output_type": "display_data"
    }
   ],
   "source": [
    "# visualization of ship ahead day count and Unit quantity\n",
    "\n",
    "sns.barplot('Plant Code', 'Ship Late Day count', data=df)"
   ]
  },
  {
   "cell_type": "code",
   "execution_count": 147,
   "metadata": {},
   "outputs": [
    {
     "name": "stderr",
     "output_type": "stream",
     "text": [
      "c:\\Users\\ACT\\AppData\\Local\\Programs\\Python\\Python310\\lib\\site-packages\\seaborn\\_decorators.py:36: FutureWarning:\n",
      "\n",
      "Pass the following variables as keyword args: x, y. From version 0.12, the only valid positional argument will be `data`, and passing other arguments without an explicit keyword will result in an error or misinterpretation.\n",
      "\n"
     ]
    },
    {
     "data": {
      "text/plain": [
       "<AxesSubplot:xlabel='Plant Code', ylabel='Ship ahead day count'>"
      ]
     },
     "execution_count": 147,
     "metadata": {},
     "output_type": "execute_result"
    },
    {
     "data": {
      "image/png": "[encoded data removed]",
      "text/plain": [
       "<Figure size 576x576 with 1 Axes>"
      ]
     },
     "metadata": {
      "needs_background": "light"
     },
     "output_type": "display_data"
    }
   ],
   "source": [
    "# visualization of ship ahead day count and Unit quantity\n",
    "\n",
    "sns.barplot('Plant Code', 'Ship ahead day count', data=df)"
   ]
  },
  {
   "cell_type": "code",
   "execution_count": null,
   "metadata": {},
   "outputs": [],
   "source": [
    "# lets do some EDA on the dataset"
   ]
  },
  {
   "cell_type": "code",
   "execution_count": 148,
   "metadata": {},
   "outputs": [
    {
     "data": {
      "text/html": [
       "<div>\n",
       "<style scoped>\n",
       "    .dataframe tbody tr th:only-of-type {\n",
       "        vertical-align: middle;\n",
       "    }\n",
       "\n",
       "    .dataframe tbody tr th {\n",
       "        vertical-align: top;\n",
       "    }\n",
       "\n",
       "    .dataframe thead th {\n",
       "        text-align: right;\n",
       "    }\n",
       "</style>\n",
       "<table border=\"1\" class=\"dataframe\">\n",
       "  <thead>\n",
       "    <tr style=\"text-align: right;\">\n",
       "      <th></th>\n",
       "      <th>Order ID</th>\n",
       "      <th>Order Date</th>\n",
       "      <th>Origin Port</th>\n",
       "      <th>Carrier</th>\n",
       "      <th>TPT</th>\n",
       "      <th>Service Level</th>\n",
       "      <th>Ship ahead day count</th>\n",
       "      <th>Ship Late Day count</th>\n",
       "      <th>Customer</th>\n",
       "      <th>Product ID</th>\n",
       "      <th>Plant Code</th>\n",
       "      <th>Destination Port</th>\n",
       "      <th>Unit quantity</th>\n",
       "      <th>Weight</th>\n",
       "    </tr>\n",
       "  </thead>\n",
       "  <tbody>\n",
       "    <tr>\n",
       "      <th>766</th>\n",
       "      <td>1.447321e+09</td>\n",
       "      <td>2013-05-26</td>\n",
       "      <td>PORT04</td>\n",
       "      <td>V44_3</td>\n",
       "      <td>0</td>\n",
       "      <td>CRF</td>\n",
       "      <td>3</td>\n",
       "      <td>0</td>\n",
       "      <td>V55555555_32</td>\n",
       "      <td>1699697</td>\n",
       "      <td>PLANT03</td>\n",
       "      <td>PORT09</td>\n",
       "      <td>10256</td>\n",
       "      <td>6.615747</td>\n",
       "    </tr>\n",
       "    <tr>\n",
       "      <th>4020</th>\n",
       "      <td>1.447404e+09</td>\n",
       "      <td>2013-05-26</td>\n",
       "      <td>PORT04</td>\n",
       "      <td>V444_0</td>\n",
       "      <td>2</td>\n",
       "      <td>DTP</td>\n",
       "      <td>0</td>\n",
       "      <td>0</td>\n",
       "      <td>V55555_26</td>\n",
       "      <td>1672706</td>\n",
       "      <td>PLANT03</td>\n",
       "      <td>PORT09</td>\n",
       "      <td>390</td>\n",
       "      <td>7.840000</td>\n",
       "    </tr>\n",
       "  </tbody>\n",
       "</table>\n",
       "</div>"
      ],
      "text/plain": [
       "          Order ID Order Date Origin Port Carrier  TPT Service Level  \\\n",
       "766   1.447321e+09 2013-05-26      PORT04   V44_3    0           CRF   \n",
       "4020  1.447404e+09 2013-05-26      PORT04  V444_0    2           DTP   \n",
       "\n",
       "      Ship ahead day count  Ship Late Day count      Customer  Product ID  \\\n",
       "766                      3                    0  V55555555_32     1699697   \n",
       "4020                     0                    0     V55555_26     1672706   \n",
       "\n",
       "     Plant Code Destination Port  Unit quantity    Weight  \n",
       "766     PLANT03           PORT09          10256  6.615747  \n",
       "4020    PLANT03           PORT09            390  7.840000  "
      ]
     },
     "execution_count": 148,
     "metadata": {},
     "output_type": "execute_result"
    }
   ],
   "source": [
    "df.sample(n=2)"
   ]
  },
  {
   "cell_type": "code",
   "execution_count": 149,
   "metadata": {},
   "outputs": [],
   "source": [
    "# no.1 drop the Order ID column\n",
    "\n",
    "df.drop(\n",
    "    columns=['Order ID'], inplace=True\n",
    ")"
   ]
  },
  {
   "cell_type": "code",
   "execution_count": 150,
   "metadata": {},
   "outputs": [
    {
     "data": {
      "text/html": [
       "<div>\n",
       "<style scoped>\n",
       "    .dataframe tbody tr th:only-of-type {\n",
       "        vertical-align: middle;\n",
       "    }\n",
       "\n",
       "    .dataframe tbody tr th {\n",
       "        vertical-align: top;\n",
       "    }\n",
       "\n",
       "    .dataframe thead th {\n",
       "        text-align: right;\n",
       "    }\n",
       "</style>\n",
       "<table border=\"1\" class=\"dataframe\">\n",
       "  <thead>\n",
       "    <tr style=\"text-align: right;\">\n",
       "      <th></th>\n",
       "      <th>Order Date</th>\n",
       "      <th>Origin Port</th>\n",
       "      <th>Carrier</th>\n",
       "      <th>TPT</th>\n",
       "      <th>Service Level</th>\n",
       "      <th>Ship ahead day count</th>\n",
       "      <th>Ship Late Day count</th>\n",
       "      <th>Customer</th>\n",
       "      <th>Product ID</th>\n",
       "      <th>Plant Code</th>\n",
       "      <th>Destination Port</th>\n",
       "      <th>Unit quantity</th>\n",
       "      <th>Weight</th>\n",
       "    </tr>\n",
       "  </thead>\n",
       "  <tbody>\n",
       "    <tr>\n",
       "      <th>4861</th>\n",
       "      <td>2013-05-26</td>\n",
       "      <td>PORT04</td>\n",
       "      <td>V444_0</td>\n",
       "      <td>2</td>\n",
       "      <td>DTP</td>\n",
       "      <td>0</td>\n",
       "      <td>0</td>\n",
       "      <td>V555555555_27</td>\n",
       "      <td>1690006</td>\n",
       "      <td>PLANT03</td>\n",
       "      <td>PORT09</td>\n",
       "      <td>1274</td>\n",
       "      <td>12.242680</td>\n",
       "    </tr>\n",
       "    <tr>\n",
       "      <th>7678</th>\n",
       "      <td>2013-05-26</td>\n",
       "      <td>PORT04</td>\n",
       "      <td>V444_1</td>\n",
       "      <td>1</td>\n",
       "      <td>DTD</td>\n",
       "      <td>0</td>\n",
       "      <td>0</td>\n",
       "      <td>V5555555_22</td>\n",
       "      <td>1656350</td>\n",
       "      <td>PLANT03</td>\n",
       "      <td>PORT09</td>\n",
       "      <td>2446</td>\n",
       "      <td>151.718131</td>\n",
       "    </tr>\n",
       "    <tr>\n",
       "      <th>992</th>\n",
       "      <td>2013-05-26</td>\n",
       "      <td>PORT04</td>\n",
       "      <td>V444_0</td>\n",
       "      <td>2</td>\n",
       "      <td>DTP</td>\n",
       "      <td>3</td>\n",
       "      <td>0</td>\n",
       "      <td>V55555555_5</td>\n",
       "      <td>1650404</td>\n",
       "      <td>PLANT12</td>\n",
       "      <td>PORT09</td>\n",
       "      <td>317</td>\n",
       "      <td>2.902391</td>\n",
       "    </tr>\n",
       "  </tbody>\n",
       "</table>\n",
       "</div>"
      ],
      "text/plain": [
       "     Order Date Origin Port Carrier  TPT Service Level  Ship ahead day count  \\\n",
       "4861 2013-05-26      PORT04  V444_0    2           DTP                     0   \n",
       "7678 2013-05-26      PORT04  V444_1    1           DTD                     0   \n",
       "992  2013-05-26      PORT04  V444_0    2           DTP                     3   \n",
       "\n",
       "      Ship Late Day count       Customer  Product ID Plant Code  \\\n",
       "4861                    0  V555555555_27     1690006    PLANT03   \n",
       "7678                    0    V5555555_22     1656350    PLANT03   \n",
       "992                     0    V55555555_5     1650404    PLANT12   \n",
       "\n",
       "     Destination Port  Unit quantity      Weight  \n",
       "4861           PORT09           1274   12.242680  \n",
       "7678           PORT09           2446  151.718131  \n",
       "992            PORT09            317    2.902391  "
      ]
     },
     "execution_count": 150,
     "metadata": {},
     "output_type": "execute_result"
    }
   ],
   "source": [
    "df.sample(n=3)"
   ]
  },
  {
   "cell_type": "code",
   "execution_count": 151,
   "metadata": {},
   "outputs": [
    {
     "data": {
      "text/plain": [
       "4"
      ]
     },
     "execution_count": 151,
     "metadata": {},
     "output_type": "execute_result"
    }
   ],
   "source": [
    "# no.2 - Ship Late Day count\n",
    "\n",
    "df['Ship Late Day count'].nunique() # check the total unique values"
   ]
  },
  {
   "cell_type": "code",
   "execution_count": 152,
   "metadata": {},
   "outputs": [
    {
     "data": {
      "text/plain": [
       "array([0, 6, 1, 3], dtype=int64)"
      ]
     },
     "execution_count": 152,
     "metadata": {},
     "output_type": "execute_result"
    }
   ],
   "source": [
    "df['Ship Late Day count'].unique() # check the unique values"
   ]
  },
  {
   "cell_type": "code",
   "execution_count": 153,
   "metadata": {},
   "outputs": [
    {
     "data": {
      "text/plain": [
       "0    9023\n",
       "1     110\n",
       "3      78\n",
       "6       4\n",
       "Name: Ship Late Day count, dtype: int64"
      ]
     },
     "execution_count": 153,
     "metadata": {},
     "output_type": "execute_result"
    }
   ],
   "source": [
    "df['Ship Late Day count'].value_counts() # check the number of unique values per item"
   ]
  },
  {
   "cell_type": "code",
   "execution_count": 158,
   "metadata": {},
   "outputs": [
    {
     "data": {
      "image/png": "[encoded data removed]",
      "text/plain": [
       "<Figure size 576x576 with 1 Axes>"
      ]
     },
     "metadata": {},
     "output_type": "display_data"
    }
   ],
   "source": [
    "# visualize using a pie chart\n",
    "\n",
    "df['Ship Late Day count'].value_counts().plot(\n",
    "    kind='pie', explode=[0.1,0.1,0.1,0.1], autopct='%.2f%%', pctdistance=0.7, labeldistance=0.4, title='Ship Late Day count'\n",
    ")\n",
    "plt.show()"
   ]
  },
  {
   "cell_type": "markdown",
   "metadata": {},
   "source": [
    "        Observation: 0 has the highest percentage of Ship Late Day count"
   ]
  },
  {
   "cell_type": "code",
   "execution_count": 160,
   "metadata": {},
   "outputs": [
    {
     "data": {
      "text/plain": [
       "5"
      ]
     },
     "execution_count": 160,
     "metadata": {},
     "output_type": "execute_result"
    }
   ],
   "source": [
    "# no.3 ----- Ship ahead day \n",
    "\n",
    "df['Ship ahead day count'].nunique() # total number of unique items"
   ]
  },
  {
   "cell_type": "code",
   "execution_count": 161,
   "metadata": {},
   "outputs": [
    {
     "data": {
      "text/plain": [
       "array([3, 0, 5, 6, 1], dtype=int64)"
      ]
     },
     "execution_count": 161,
     "metadata": {},
     "output_type": "execute_result"
    }
   ],
   "source": [
    "df['Ship ahead day count'].unique() # check the unique values"
   ]
  },
  {
   "cell_type": "code",
   "execution_count": 162,
   "metadata": {},
   "outputs": [
    {
     "data": {
      "text/plain": [
       "0    4426\n",
       "3    3206\n",
       "5    1462\n",
       "1     117\n",
       "6       4\n",
       "Name: Ship ahead day count, dtype: int64"
      ]
     },
     "execution_count": 162,
     "metadata": {},
     "output_type": "execute_result"
    }
   ],
   "source": [
    "df['Ship ahead day count'].value_counts() # check the number of unique values per item"
   ]
  },
  {
   "cell_type": "code",
   "execution_count": 167,
   "metadata": {},
   "outputs": [
    {
     "data": {
      "image/png": "[encoded data removed]",
      "text/plain": [
       "<Figure size 576x576 with 1 Axes>"
      ]
     },
     "metadata": {
      "needs_background": "light"
     },
     "output_type": "display_data"
    }
   ],
   "source": [
    "# visualization\n",
    "\n",
    "df['Ship ahead day count'].value_counts().plot(\n",
    "    kind='barh', color=('blue','green','black','indigo','pink')\n",
    ")\n",
    "plt.show()"
   ]
  },
  {
   "cell_type": "markdown",
   "metadata": {},
   "source": [
    "        Observation: 0 has the highest Ship ahead day count"
   ]
  },
  {
   "cell_type": "code",
   "execution_count": 168,
   "metadata": {},
   "outputs": [
    {
     "data": {
      "text/html": [
       "<div>\n",
       "<style scoped>\n",
       "    .dataframe tbody tr th:only-of-type {\n",
       "        vertical-align: middle;\n",
       "    }\n",
       "\n",
       "    .dataframe tbody tr th {\n",
       "        vertical-align: top;\n",
       "    }\n",
       "\n",
       "    .dataframe thead th {\n",
       "        text-align: right;\n",
       "    }\n",
       "</style>\n",
       "<table border=\"1\" class=\"dataframe\">\n",
       "  <thead>\n",
       "    <tr style=\"text-align: right;\">\n",
       "      <th></th>\n",
       "      <th>Order Date</th>\n",
       "      <th>Origin Port</th>\n",
       "      <th>Carrier</th>\n",
       "      <th>TPT</th>\n",
       "      <th>Service Level</th>\n",
       "      <th>Ship ahead day count</th>\n",
       "      <th>Ship Late Day count</th>\n",
       "      <th>Customer</th>\n",
       "      <th>Product ID</th>\n",
       "      <th>Plant Code</th>\n",
       "      <th>Destination Port</th>\n",
       "      <th>Unit quantity</th>\n",
       "      <th>Weight</th>\n",
       "    </tr>\n",
       "  </thead>\n",
       "  <tbody>\n",
       "    <tr>\n",
       "      <th>7874</th>\n",
       "      <td>2013-05-26</td>\n",
       "      <td>PORT04</td>\n",
       "      <td>V444_1</td>\n",
       "      <td>1</td>\n",
       "      <td>DTD</td>\n",
       "      <td>0</td>\n",
       "      <td>0</td>\n",
       "      <td>V5555555_22</td>\n",
       "      <td>1699553</td>\n",
       "      <td>PLANT03</td>\n",
       "      <td>PORT09</td>\n",
       "      <td>2348</td>\n",
       "      <td>8.704295</td>\n",
       "    </tr>\n",
       "    <tr>\n",
       "      <th>8812</th>\n",
       "      <td>2013-05-26</td>\n",
       "      <td>PORT04</td>\n",
       "      <td>V444_1</td>\n",
       "      <td>1</td>\n",
       "      <td>DTD</td>\n",
       "      <td>5</td>\n",
       "      <td>0</td>\n",
       "      <td>V55555555555555_8</td>\n",
       "      <td>1688629</td>\n",
       "      <td>PLANT03</td>\n",
       "      <td>PORT09</td>\n",
       "      <td>376</td>\n",
       "      <td>8.968266</td>\n",
       "    </tr>\n",
       "  </tbody>\n",
       "</table>\n",
       "</div>"
      ],
      "text/plain": [
       "     Order Date Origin Port Carrier  TPT Service Level  Ship ahead day count  \\\n",
       "7874 2013-05-26      PORT04  V444_1    1           DTD                     0   \n",
       "8812 2013-05-26      PORT04  V444_1    1           DTD                     5   \n",
       "\n",
       "      Ship Late Day count           Customer  Product ID Plant Code  \\\n",
       "7874                    0        V5555555_22     1699553    PLANT03   \n",
       "8812                    0  V55555555555555_8     1688629    PLANT03   \n",
       "\n",
       "     Destination Port  Unit quantity    Weight  \n",
       "7874           PORT09           2348  8.704295  \n",
       "8812           PORT09            376  8.968266  "
      ]
     },
     "execution_count": 168,
     "metadata": {},
     "output_type": "execute_result"
    }
   ],
   "source": [
    "df.sample(n=2)"
   ]
  },
  {
   "cell_type": "code",
   "execution_count": null,
   "metadata": {},
   "outputs": [],
   "source": [
    "# n0.4 -----Plant Code"
   ]
  },
  {
   "cell_type": "code",
   "execution_count": 169,
   "metadata": {},
   "outputs": [
    {
     "data": {
      "text/plain": [
       "7"
      ]
     },
     "execution_count": 169,
     "metadata": {},
     "output_type": "execute_result"
    }
   ],
   "source": [
    "df['Plant Code'].nunique() # total number of unique items"
   ]
  },
  {
   "cell_type": "code",
   "execution_count": 170,
   "metadata": {},
   "outputs": [
    {
     "data": {
      "text/plain": [
       "array(['PLANT16', 'PLANT03', 'PLANT08', 'PLANT04', 'PLANT12', 'PLANT09',\n",
       "       'PLANT13'], dtype=object)"
      ]
     },
     "execution_count": 170,
     "metadata": {},
     "output_type": "execute_result"
    }
   ],
   "source": [
    "df['Plant Code'].unique() # check the unique values"
   ]
  },
  {
   "cell_type": "code",
   "execution_count": 171,
   "metadata": {},
   "outputs": [
    {
     "data": {
      "text/plain": [
       "PLANT03    8541\n",
       "PLANT12     300\n",
       "PLANT16     173\n",
       "PLANT08     102\n",
       "PLANT13      86\n",
       "PLANT09      12\n",
       "PLANT04       1\n",
       "Name: Plant Code, dtype: int64"
      ]
     },
     "execution_count": 171,
     "metadata": {},
     "output_type": "execute_result"
    }
   ],
   "source": [
    "df['Plant Code'].value_counts() # check the number of unique values per item"
   ]
  },
  {
   "cell_type": "code",
   "execution_count": 174,
   "metadata": {},
   "outputs": [
    {
     "data": {
      "image/png": "[encoded data removed]",
      "text/plain": [
       "<Figure size 576x576 with 1 Axes>"
      ]
     },
     "metadata": {
      "needs_background": "light"
     },
     "output_type": "display_data"
    }
   ],
   "source": [
    "# visualization\n",
    "\n",
    "df['Plant Code'].value_counts().plot(\n",
    "    kind='barh', color=('green','#891234', 'red', 'blue', 'yellow', 'pink')\n",
    ")\n",
    "\n",
    "plt.show()"
   ]
  },
  {
   "cell_type": "markdown",
   "metadata": {},
   "source": [
    "        Observation: Plant03 has the highest demand"
   ]
  },
  {
   "cell_type": "code",
   "execution_count": 175,
   "metadata": {},
   "outputs": [
    {
     "data": {
      "text/html": [
       "<div>\n",
       "<style scoped>\n",
       "    .dataframe tbody tr th:only-of-type {\n",
       "        vertical-align: middle;\n",
       "    }\n",
       "\n",
       "    .dataframe tbody tr th {\n",
       "        vertical-align: top;\n",
       "    }\n",
       "\n",
       "    .dataframe thead th {\n",
       "        text-align: right;\n",
       "    }\n",
       "</style>\n",
       "<table border=\"1\" class=\"dataframe\">\n",
       "  <thead>\n",
       "    <tr style=\"text-align: right;\">\n",
       "      <th></th>\n",
       "      <th>Order Date</th>\n",
       "      <th>Origin Port</th>\n",
       "      <th>Carrier</th>\n",
       "      <th>TPT</th>\n",
       "      <th>Service Level</th>\n",
       "      <th>Ship ahead day count</th>\n",
       "      <th>Ship Late Day count</th>\n",
       "      <th>Customer</th>\n",
       "      <th>Product ID</th>\n",
       "      <th>Plant Code</th>\n",
       "      <th>Destination Port</th>\n",
       "      <th>Unit quantity</th>\n",
       "      <th>Weight</th>\n",
       "    </tr>\n",
       "  </thead>\n",
       "  <tbody>\n",
       "    <tr>\n",
       "      <th>1283</th>\n",
       "      <td>2013-05-26</td>\n",
       "      <td>PORT04</td>\n",
       "      <td>V444_0</td>\n",
       "      <td>2</td>\n",
       "      <td>DTP</td>\n",
       "      <td>0</td>\n",
       "      <td>0</td>\n",
       "      <td>V555555555555555_29</td>\n",
       "      <td>1682757</td>\n",
       "      <td>PLANT03</td>\n",
       "      <td>PORT09</td>\n",
       "      <td>325</td>\n",
       "      <td>4.176228</td>\n",
       "    </tr>\n",
       "    <tr>\n",
       "      <th>1317</th>\n",
       "      <td>2013-05-26</td>\n",
       "      <td>PORT04</td>\n",
       "      <td>V444_0</td>\n",
       "      <td>2</td>\n",
       "      <td>DTP</td>\n",
       "      <td>0</td>\n",
       "      <td>0</td>\n",
       "      <td>V5555555_30</td>\n",
       "      <td>1658528</td>\n",
       "      <td>PLANT03</td>\n",
       "      <td>PORT09</td>\n",
       "      <td>1914</td>\n",
       "      <td>12.220000</td>\n",
       "    </tr>\n",
       "  </tbody>\n",
       "</table>\n",
       "</div>"
      ],
      "text/plain": [
       "     Order Date Origin Port Carrier  TPT Service Level  Ship ahead day count  \\\n",
       "1283 2013-05-26      PORT04  V444_0    2           DTP                     0   \n",
       "1317 2013-05-26      PORT04  V444_0    2           DTP                     0   \n",
       "\n",
       "      Ship Late Day count             Customer  Product ID Plant Code  \\\n",
       "1283                    0  V555555555555555_29     1682757    PLANT03   \n",
       "1317                    0          V5555555_30     1658528    PLANT03   \n",
       "\n",
       "     Destination Port  Unit quantity     Weight  \n",
       "1283           PORT09            325   4.176228  \n",
       "1317           PORT09           1914  12.220000  "
      ]
     },
     "execution_count": 175,
     "metadata": {},
     "output_type": "execute_result"
    }
   ],
   "source": [
    "df.sample(n=2)"
   ]
  },
  {
   "cell_type": "code",
   "execution_count": 176,
   "metadata": {},
   "outputs": [
    {
     "data": {
      "text/plain": [
       "1"
      ]
     },
     "execution_count": 176,
     "metadata": {},
     "output_type": "execute_result"
    }
   ],
   "source": [
    "df['Destination Port'].nunique() # total number of unique items"
   ]
  },
  {
   "cell_type": "code",
   "execution_count": 177,
   "metadata": {},
   "outputs": [
    {
     "data": {
      "text/plain": [
       "array(['PORT09'], dtype=object)"
      ]
     },
     "execution_count": 177,
     "metadata": {},
     "output_type": "execute_result"
    }
   ],
   "source": [
    "df['Destination Port'].unique() # check the unique values"
   ]
  },
  {
   "cell_type": "code",
   "execution_count": null,
   "metadata": {},
   "outputs": [],
   "source": [
    "df['Destination Port'].value_counts() # check the number of unique values per item"
   ]
  },
  {
   "cell_type": "markdown",
   "metadata": {},
   "source": [
    "        Observation: Destination Port PORT09 is the only one used to offload cargo"
   ]
  },
  {
   "cell_type": "code",
   "execution_count": null,
   "metadata": {},
   "outputs": [],
   "source": [
    "# TPT"
   ]
  },
  {
   "cell_type": "code",
   "execution_count": 178,
   "metadata": {},
   "outputs": [
    {
     "data": {
      "text/html": [
       "<div>\n",
       "<style scoped>\n",
       "    .dataframe tbody tr th:only-of-type {\n",
       "        vertical-align: middle;\n",
       "    }\n",
       "\n",
       "    .dataframe tbody tr th {\n",
       "        vertical-align: top;\n",
       "    }\n",
       "\n",
       "    .dataframe thead th {\n",
       "        text-align: right;\n",
       "    }\n",
       "</style>\n",
       "<table border=\"1\" class=\"dataframe\">\n",
       "  <thead>\n",
       "    <tr style=\"text-align: right;\">\n",
       "      <th></th>\n",
       "      <th>Order Date</th>\n",
       "      <th>Origin Port</th>\n",
       "      <th>Carrier</th>\n",
       "      <th>TPT</th>\n",
       "      <th>Service Level</th>\n",
       "      <th>Ship ahead day count</th>\n",
       "      <th>Ship Late Day count</th>\n",
       "      <th>Customer</th>\n",
       "      <th>Product ID</th>\n",
       "      <th>Plant Code</th>\n",
       "      <th>Destination Port</th>\n",
       "      <th>Unit quantity</th>\n",
       "      <th>Weight</th>\n",
       "    </tr>\n",
       "  </thead>\n",
       "  <tbody>\n",
       "    <tr>\n",
       "      <th>2858</th>\n",
       "      <td>2013-05-26</td>\n",
       "      <td>PORT04</td>\n",
       "      <td>V444_0</td>\n",
       "      <td>2</td>\n",
       "      <td>DTP</td>\n",
       "      <td>3</td>\n",
       "      <td>0</td>\n",
       "      <td>V55555_2</td>\n",
       "      <td>1699954</td>\n",
       "      <td>PLANT03</td>\n",
       "      <td>PORT09</td>\n",
       "      <td>277</td>\n",
       "      <td>0.465733</td>\n",
       "    </tr>\n",
       "    <tr>\n",
       "      <th>5447</th>\n",
       "      <td>2013-05-26</td>\n",
       "      <td>PORT04</td>\n",
       "      <td>V444_0</td>\n",
       "      <td>2</td>\n",
       "      <td>DTP</td>\n",
       "      <td>0</td>\n",
       "      <td>0</td>\n",
       "      <td>V55555555555_28</td>\n",
       "      <td>1666524</td>\n",
       "      <td>PLANT03</td>\n",
       "      <td>PORT09</td>\n",
       "      <td>27738</td>\n",
       "      <td>16.178603</td>\n",
       "    </tr>\n",
       "  </tbody>\n",
       "</table>\n",
       "</div>"
      ],
      "text/plain": [
       "     Order Date Origin Port Carrier  TPT Service Level  Ship ahead day count  \\\n",
       "2858 2013-05-26      PORT04  V444_0    2           DTP                     3   \n",
       "5447 2013-05-26      PORT04  V444_0    2           DTP                     0   \n",
       "\n",
       "      Ship Late Day count         Customer  Product ID Plant Code  \\\n",
       "2858                    0         V55555_2     1699954    PLANT03   \n",
       "5447                    0  V55555555555_28     1666524    PLANT03   \n",
       "\n",
       "     Destination Port  Unit quantity     Weight  \n",
       "2858           PORT09            277   0.465733  \n",
       "5447           PORT09          27738  16.178603  "
      ]
     },
     "execution_count": 178,
     "metadata": {},
     "output_type": "execute_result"
    }
   ],
   "source": [
    "df.sample(n=2)"
   ]
  },
  {
   "cell_type": "code",
   "execution_count": 179,
   "metadata": {},
   "outputs": [
    {
     "data": {
      "text/plain": [
       "5"
      ]
     },
     "execution_count": 179,
     "metadata": {},
     "output_type": "execute_result"
    }
   ],
   "source": [
    "df['TPT'].nunique() # total number of unique items"
   ]
  },
  {
   "cell_type": "code",
   "execution_count": 180,
   "metadata": {},
   "outputs": [
    {
     "data": {
      "text/plain": [
       "array([1, 4, 0, 2, 3], dtype=int64)"
      ]
     },
     "execution_count": 180,
     "metadata": {},
     "output_type": "execute_result"
    }
   ],
   "source": [
    "df['TPT'].unique() #  check the unique values"
   ]
  },
  {
   "cell_type": "code",
   "execution_count": 181,
   "metadata": {},
   "outputs": [
    {
     "data": {
      "text/plain": [
       "2    6480\n",
       "1    2123\n",
       "0     411\n",
       "4     143\n",
       "3      58\n",
       "Name: TPT, dtype: int64"
      ]
     },
     "execution_count": 181,
     "metadata": {},
     "output_type": "execute_result"
    }
   ],
   "source": [
    "df['TPT'].value_counts() #  check the number of unique values per item"
   ]
  },
  {
   "cell_type": "code",
   "execution_count": 184,
   "metadata": {},
   "outputs": [
    {
     "data": {
      "image/png": "[encoded data removed]",
      "text/plain": [
       "<Figure size 576x576 with 1 Axes>"
      ]
     },
     "metadata": {
      "needs_background": "light"
     },
     "output_type": "display_data"
    }
   ],
   "source": [
    "# visualization\n",
    "\n",
    "df['TPT'].value_counts().plot(\n",
    "    kind='barh', color=('green', 'indigo', 'blue', 'red', 'pink')\n",
    ")\n",
    "\n",
    "plt.show()"
   ]
  },
  {
   "cell_type": "markdown",
   "metadata": {},
   "source": [
    "        Observation TPT 2 is high in demand"
   ]
  },
  {
   "cell_type": "code",
   "execution_count": 185,
   "metadata": {},
   "outputs": [
    {
     "data": {
      "text/html": [
       "<div>\n",
       "<style scoped>\n",
       "    .dataframe tbody tr th:only-of-type {\n",
       "        vertical-align: middle;\n",
       "    }\n",
       "\n",
       "    .dataframe tbody tr th {\n",
       "        vertical-align: top;\n",
       "    }\n",
       "\n",
       "    .dataframe thead th {\n",
       "        text-align: right;\n",
       "    }\n",
       "</style>\n",
       "<table border=\"1\" class=\"dataframe\">\n",
       "  <thead>\n",
       "    <tr style=\"text-align: right;\">\n",
       "      <th></th>\n",
       "      <th>Order Date</th>\n",
       "      <th>Origin Port</th>\n",
       "      <th>Carrier</th>\n",
       "      <th>TPT</th>\n",
       "      <th>Service Level</th>\n",
       "      <th>Ship ahead day count</th>\n",
       "      <th>Ship Late Day count</th>\n",
       "      <th>Customer</th>\n",
       "      <th>Product ID</th>\n",
       "      <th>Plant Code</th>\n",
       "      <th>Destination Port</th>\n",
       "      <th>Unit quantity</th>\n",
       "      <th>Weight</th>\n",
       "    </tr>\n",
       "  </thead>\n",
       "  <tbody>\n",
       "    <tr>\n",
       "      <th>208</th>\n",
       "      <td>2013-05-26</td>\n",
       "      <td>PORT04</td>\n",
       "      <td>V44_3</td>\n",
       "      <td>0</td>\n",
       "      <td>CRF</td>\n",
       "      <td>0</td>\n",
       "      <td>0</td>\n",
       "      <td>V555555555555555_29</td>\n",
       "      <td>1699418</td>\n",
       "      <td>PLANT03</td>\n",
       "      <td>PORT09</td>\n",
       "      <td>890</td>\n",
       "      <td>1.926233</td>\n",
       "    </tr>\n",
       "    <tr>\n",
       "      <th>8149</th>\n",
       "      <td>2013-05-26</td>\n",
       "      <td>PORT04</td>\n",
       "      <td>V444_1</td>\n",
       "      <td>1</td>\n",
       "      <td>DTD</td>\n",
       "      <td>0</td>\n",
       "      <td>0</td>\n",
       "      <td>V555555555555555555_45</td>\n",
       "      <td>1668547</td>\n",
       "      <td>PLANT03</td>\n",
       "      <td>PORT09</td>\n",
       "      <td>890</td>\n",
       "      <td>4.779859</td>\n",
       "    </tr>\n",
       "  </tbody>\n",
       "</table>\n",
       "</div>"
      ],
      "text/plain": [
       "     Order Date Origin Port Carrier  TPT Service Level  Ship ahead day count  \\\n",
       "208  2013-05-26      PORT04   V44_3    0           CRF                     0   \n",
       "8149 2013-05-26      PORT04  V444_1    1           DTD                     0   \n",
       "\n",
       "      Ship Late Day count                Customer  Product ID Plant Code  \\\n",
       "208                     0     V555555555555555_29     1699418    PLANT03   \n",
       "8149                    0  V555555555555555555_45     1668547    PLANT03   \n",
       "\n",
       "     Destination Port  Unit quantity    Weight  \n",
       "208            PORT09            890  1.926233  \n",
       "8149           PORT09            890  4.779859  "
      ]
     },
     "execution_count": 185,
     "metadata": {},
     "output_type": "execute_result"
    }
   ],
   "source": [
    "df.sample(n=2)"
   ]
  },
  {
   "cell_type": "code",
   "execution_count": 186,
   "metadata": {},
   "outputs": [
    {
     "data": {
      "text/plain": [
       "3"
      ]
     },
     "execution_count": 186,
     "metadata": {},
     "output_type": "execute_result"
    }
   ],
   "source": [
    "df['Service Level'].nunique() # check the total number of unique items"
   ]
  },
  {
   "cell_type": "code",
   "execution_count": 187,
   "metadata": {},
   "outputs": [
    {
     "data": {
      "text/plain": [
       "array(['CRF', 'DTP', 'DTD'], dtype=object)"
      ]
     },
     "execution_count": 187,
     "metadata": {},
     "output_type": "execute_result"
    }
   ],
   "source": [
    "df['Service Level'].unique() # check the unique values"
   ]
  },
  {
   "cell_type": "code",
   "execution_count": 188,
   "metadata": {},
   "outputs": [
    {
     "data": {
      "text/plain": [
       "DTP    6218\n",
       "DTD    2143\n",
       "CRF     854\n",
       "Name: Service Level, dtype: int64"
      ]
     },
     "execution_count": 188,
     "metadata": {},
     "output_type": "execute_result"
    }
   ],
   "source": [
    "df['Service Level'].value_counts() # check the number of unique values per item"
   ]
  },
  {
   "cell_type": "code",
   "execution_count": 201,
   "metadata": {},
   "outputs": [
    {
     "data": {
      "image/png": "[encoded data removed]",
      "text/plain": [
       "<Figure size 576x576 with 1 Axes>"
      ]
     },
     "metadata": {},
     "output_type": "display_data"
    }
   ],
   "source": [
    "df['Service Level'].value_counts().plot(\n",
    "    kind='pie', explode=[0.02,0.02,0.02], autopct='%.2f%%', pctdistance=0.7, labeldistance=0.4, title='Service Level'\n",
    ")\n",
    "plt.show()"
   ]
  },
  {
   "cell_type": "markdown",
   "metadata": {},
   "source": [
    "        Observation: DTP has the highest service level"
   ]
  },
  {
   "cell_type": "code",
   "execution_count": 202,
   "metadata": {},
   "outputs": [
    {
     "data": {
      "text/html": [
       "<div>\n",
       "<style scoped>\n",
       "    .dataframe tbody tr th:only-of-type {\n",
       "        vertical-align: middle;\n",
       "    }\n",
       "\n",
       "    .dataframe tbody tr th {\n",
       "        vertical-align: top;\n",
       "    }\n",
       "\n",
       "    .dataframe thead th {\n",
       "        text-align: right;\n",
       "    }\n",
       "</style>\n",
       "<table border=\"1\" class=\"dataframe\">\n",
       "  <thead>\n",
       "    <tr style=\"text-align: right;\">\n",
       "      <th></th>\n",
       "      <th>Order Date</th>\n",
       "      <th>Origin Port</th>\n",
       "      <th>Carrier</th>\n",
       "      <th>TPT</th>\n",
       "      <th>Service Level</th>\n",
       "      <th>Ship ahead day count</th>\n",
       "      <th>Ship Late Day count</th>\n",
       "      <th>Customer</th>\n",
       "      <th>Product ID</th>\n",
       "      <th>Plant Code</th>\n",
       "      <th>Destination Port</th>\n",
       "      <th>Unit quantity</th>\n",
       "      <th>Weight</th>\n",
       "    </tr>\n",
       "  </thead>\n",
       "  <tbody>\n",
       "    <tr>\n",
       "      <th>6982</th>\n",
       "      <td>2013-05-26</td>\n",
       "      <td>PORT04</td>\n",
       "      <td>V444_0</td>\n",
       "      <td>2</td>\n",
       "      <td>DTP</td>\n",
       "      <td>3</td>\n",
       "      <td>0</td>\n",
       "      <td>V55555555_5</td>\n",
       "      <td>1646393</td>\n",
       "      <td>PLANT13</td>\n",
       "      <td>PORT09</td>\n",
       "      <td>1255</td>\n",
       "      <td>195.235294</td>\n",
       "    </tr>\n",
       "    <tr>\n",
       "      <th>1064</th>\n",
       "      <td>2013-05-26</td>\n",
       "      <td>PORT04</td>\n",
       "      <td>V444_0</td>\n",
       "      <td>2</td>\n",
       "      <td>DTP</td>\n",
       "      <td>5</td>\n",
       "      <td>0</td>\n",
       "      <td>V55555555_7</td>\n",
       "      <td>1687353</td>\n",
       "      <td>PLANT12</td>\n",
       "      <td>PORT09</td>\n",
       "      <td>349</td>\n",
       "      <td>20.600000</td>\n",
       "    </tr>\n",
       "    <tr>\n",
       "      <th>2551</th>\n",
       "      <td>2013-05-26</td>\n",
       "      <td>PORT04</td>\n",
       "      <td>V444_0</td>\n",
       "      <td>2</td>\n",
       "      <td>DTP</td>\n",
       "      <td>3</td>\n",
       "      <td>0</td>\n",
       "      <td>V55555_2</td>\n",
       "      <td>1674853</td>\n",
       "      <td>PLANT03</td>\n",
       "      <td>PORT09</td>\n",
       "      <td>262</td>\n",
       "      <td>0.523798</td>\n",
       "    </tr>\n",
       "  </tbody>\n",
       "</table>\n",
       "</div>"
      ],
      "text/plain": [
       "     Order Date Origin Port Carrier  TPT Service Level  Ship ahead day count  \\\n",
       "6982 2013-05-26      PORT04  V444_0    2           DTP                     3   \n",
       "1064 2013-05-26      PORT04  V444_0    2           DTP                     5   \n",
       "2551 2013-05-26      PORT04  V444_0    2           DTP                     3   \n",
       "\n",
       "      Ship Late Day count     Customer  Product ID Plant Code  \\\n",
       "6982                    0  V55555555_5     1646393    PLANT13   \n",
       "1064                    0  V55555555_7     1687353    PLANT12   \n",
       "2551                    0     V55555_2     1674853    PLANT03   \n",
       "\n",
       "     Destination Port  Unit quantity      Weight  \n",
       "6982           PORT09           1255  195.235294  \n",
       "1064           PORT09            349   20.600000  \n",
       "2551           PORT09            262    0.523798  "
      ]
     },
     "execution_count": 202,
     "metadata": {},
     "output_type": "execute_result"
    }
   ],
   "source": [
    "df.sample(n=3)"
   ]
  },
  {
   "cell_type": "code",
   "execution_count": 206,
   "metadata": {},
   "outputs": [],
   "source": [
    "# drop the order date column, we won't use it\n",
    "\n",
    "df.drop(\n",
    "    columns=['Order Date'], inplace=True\n",
    ")"
   ]
  },
  {
   "cell_type": "code",
   "execution_count": 207,
   "metadata": {},
   "outputs": [
    {
     "data": {
      "text/html": [
       "<div>\n",
       "<style scoped>\n",
       "    .dataframe tbody tr th:only-of-type {\n",
       "        vertical-align: middle;\n",
       "    }\n",
       "\n",
       "    .dataframe tbody tr th {\n",
       "        vertical-align: top;\n",
       "    }\n",
       "\n",
       "    .dataframe thead th {\n",
       "        text-align: right;\n",
       "    }\n",
       "</style>\n",
       "<table border=\"1\" class=\"dataframe\">\n",
       "  <thead>\n",
       "    <tr style=\"text-align: right;\">\n",
       "      <th></th>\n",
       "      <th>Origin Port</th>\n",
       "      <th>Carrier</th>\n",
       "      <th>TPT</th>\n",
       "      <th>Service Level</th>\n",
       "      <th>Ship ahead day count</th>\n",
       "      <th>Ship Late Day count</th>\n",
       "      <th>Customer</th>\n",
       "      <th>Product ID</th>\n",
       "      <th>Plant Code</th>\n",
       "      <th>Destination Port</th>\n",
       "      <th>Unit quantity</th>\n",
       "      <th>Weight</th>\n",
       "    </tr>\n",
       "  </thead>\n",
       "  <tbody>\n",
       "    <tr>\n",
       "      <th>9114</th>\n",
       "      <td>PORT04</td>\n",
       "      <td>V444_1</td>\n",
       "      <td>1</td>\n",
       "      <td>DTD</td>\n",
       "      <td>5</td>\n",
       "      <td>0</td>\n",
       "      <td>V55555555555555_8</td>\n",
       "      <td>1690621</td>\n",
       "      <td>PLANT03</td>\n",
       "      <td>PORT09</td>\n",
       "      <td>315</td>\n",
       "      <td>1.716924</td>\n",
       "    </tr>\n",
       "    <tr>\n",
       "      <th>3784</th>\n",
       "      <td>PORT04</td>\n",
       "      <td>V444_0</td>\n",
       "      <td>2</td>\n",
       "      <td>DTP</td>\n",
       "      <td>0</td>\n",
       "      <td>0</td>\n",
       "      <td>V555555555_14</td>\n",
       "      <td>1651299</td>\n",
       "      <td>PLANT03</td>\n",
       "      <td>PORT09</td>\n",
       "      <td>10305</td>\n",
       "      <td>26.860000</td>\n",
       "    </tr>\n",
       "  </tbody>\n",
       "</table>\n",
       "</div>"
      ],
      "text/plain": [
       "     Origin Port Carrier  TPT Service Level  Ship ahead day count  \\\n",
       "9114      PORT04  V444_1    1           DTD                     5   \n",
       "3784      PORT04  V444_0    2           DTP                     0   \n",
       "\n",
       "      Ship Late Day count           Customer  Product ID Plant Code  \\\n",
       "9114                    0  V55555555555555_8     1690621    PLANT03   \n",
       "3784                    0      V555555555_14     1651299    PLANT03   \n",
       "\n",
       "     Destination Port  Unit quantity     Weight  \n",
       "9114           PORT09            315   1.716924  \n",
       "3784           PORT09          10305  26.860000  "
      ]
     },
     "execution_count": 207,
     "metadata": {},
     "output_type": "execute_result"
    }
   ],
   "source": [
    "df.sample(n=2)"
   ]
  },
  {
   "cell_type": "code",
   "execution_count": 208,
   "metadata": {},
   "outputs": [
    {
     "data": {
      "text/plain": [
       "3"
      ]
     },
     "execution_count": 208,
     "metadata": {},
     "output_type": "execute_result"
    }
   ],
   "source": [
    "df['Origin Port'].nunique()"
   ]
  },
  {
   "cell_type": "code",
   "execution_count": 209,
   "metadata": {},
   "outputs": [
    {
     "data": {
      "text/plain": [
       "array(['PORT09', 'PORT04', 'PORT05'], dtype=object)"
      ]
     },
     "execution_count": 209,
     "metadata": {},
     "output_type": "execute_result"
    }
   ],
   "source": [
    "df['Origin Port'].unique()"
   ]
  },
  {
   "cell_type": "code",
   "execution_count": 210,
   "metadata": {},
   "outputs": [
    {
     "data": {
      "text/plain": [
       "PORT04    9041\n",
       "PORT09     173\n",
       "PORT05       1\n",
       "Name: Origin Port, dtype: int64"
      ]
     },
     "execution_count": 210,
     "metadata": {},
     "output_type": "execute_result"
    }
   ],
   "source": [
    "df['Origin Port'].value_counts()"
   ]
  },
  {
   "cell_type": "code",
   "execution_count": 227,
   "metadata": {},
   "outputs": [
    {
     "data": {
      "image/png": "[encoded data removed]",
      "text/plain": [
       "<Figure size 576x576 with 1 Axes>"
      ]
     },
     "metadata": {
      "needs_background": "light"
     },
     "output_type": "display_data"
    }
   ],
   "source": [
    "# visualization\n",
    "\n",
    "df['Origin Port'].value_counts().plot(\n",
    "    kind='barh', color=('green', 'red'), title='Origin Port'\n",
    ")\n",
    "plt.show()"
   ]
  },
  {
   "cell_type": "markdown",
   "metadata": {},
   "source": [
    "        Observation: PORT04 has the highest onloading of cargo"
   ]
  },
  {
   "cell_type": "code",
   "execution_count": 228,
   "metadata": {},
   "outputs": [
    {
     "data": {
      "text/html": [
       "<div>\n",
       "<style scoped>\n",
       "    .dataframe tbody tr th:only-of-type {\n",
       "        vertical-align: middle;\n",
       "    }\n",
       "\n",
       "    .dataframe tbody tr th {\n",
       "        vertical-align: top;\n",
       "    }\n",
       "\n",
       "    .dataframe thead th {\n",
       "        text-align: right;\n",
       "    }\n",
       "</style>\n",
       "<table border=\"1\" class=\"dataframe\">\n",
       "  <thead>\n",
       "    <tr style=\"text-align: right;\">\n",
       "      <th></th>\n",
       "      <th>Origin Port</th>\n",
       "      <th>Carrier</th>\n",
       "      <th>TPT</th>\n",
       "      <th>Service Level</th>\n",
       "      <th>Ship ahead day count</th>\n",
       "      <th>Ship Late Day count</th>\n",
       "      <th>Customer</th>\n",
       "      <th>Product ID</th>\n",
       "      <th>Plant Code</th>\n",
       "      <th>Destination Port</th>\n",
       "      <th>Unit quantity</th>\n",
       "      <th>Weight</th>\n",
       "    </tr>\n",
       "  </thead>\n",
       "  <tbody>\n",
       "    <tr>\n",
       "      <th>3478</th>\n",
       "      <td>PORT04</td>\n",
       "      <td>V444_0</td>\n",
       "      <td>2</td>\n",
       "      <td>DTP</td>\n",
       "      <td>0</td>\n",
       "      <td>0</td>\n",
       "      <td>V55555_4</td>\n",
       "      <td>1656246</td>\n",
       "      <td>PLANT03</td>\n",
       "      <td>PORT09</td>\n",
       "      <td>1244</td>\n",
       "      <td>4.096306</td>\n",
       "    </tr>\n",
       "    <tr>\n",
       "      <th>4364</th>\n",
       "      <td>PORT04</td>\n",
       "      <td>V444_0</td>\n",
       "      <td>2</td>\n",
       "      <td>DTP</td>\n",
       "      <td>3</td>\n",
       "      <td>0</td>\n",
       "      <td>V55555555_5</td>\n",
       "      <td>1696075</td>\n",
       "      <td>PLANT03</td>\n",
       "      <td>PORT09</td>\n",
       "      <td>1323</td>\n",
       "      <td>5.828514</td>\n",
       "    </tr>\n",
       "  </tbody>\n",
       "</table>\n",
       "</div>"
      ],
      "text/plain": [
       "     Origin Port Carrier  TPT Service Level  Ship ahead day count  \\\n",
       "3478      PORT04  V444_0    2           DTP                     0   \n",
       "4364      PORT04  V444_0    2           DTP                     3   \n",
       "\n",
       "      Ship Late Day count     Customer  Product ID Plant Code  \\\n",
       "3478                    0     V55555_4     1656246    PLANT03   \n",
       "4364                    0  V55555555_5     1696075    PLANT03   \n",
       "\n",
       "     Destination Port  Unit quantity    Weight  \n",
       "3478           PORT09           1244  4.096306  \n",
       "4364           PORT09           1323  5.828514  "
      ]
     },
     "execution_count": 228,
     "metadata": {},
     "output_type": "execute_result"
    }
   ],
   "source": [
    "df.sample(n=2)"
   ]
  },
  {
   "cell_type": "code",
   "execution_count": 229,
   "metadata": {},
   "outputs": [
    {
     "data": {
      "text/plain": [
       "3"
      ]
     },
     "execution_count": 229,
     "metadata": {},
     "output_type": "execute_result"
    }
   ],
   "source": [
    "df['Carrier'].nunique()"
   ]
  },
  {
   "cell_type": "code",
   "execution_count": 230,
   "metadata": {},
   "outputs": [
    {
     "data": {
      "text/plain": [
       "array(['V44_3', 'V444_0', 'V444_1'], dtype=object)"
      ]
     },
     "execution_count": 230,
     "metadata": {},
     "output_type": "execute_result"
    }
   ],
   "source": [
    "df['Carrier'].unique()"
   ]
  },
  {
   "cell_type": "code",
   "execution_count": 231,
   "metadata": {},
   "outputs": [
    {
     "data": {
      "text/plain": [
       "V444_0    6264\n",
       "V444_1    2097\n",
       "V44_3      854\n",
       "Name: Carrier, dtype: int64"
      ]
     },
     "execution_count": 231,
     "metadata": {},
     "output_type": "execute_result"
    }
   ],
   "source": [
    "df['Carrier'].value_counts()"
   ]
  },
  {
   "cell_type": "code",
   "execution_count": 235,
   "metadata": {},
   "outputs": [
    {
     "data": {
      "image/png": "[encoded data removed]",
      "text/plain": [
       "<Figure size 576x576 with 1 Axes>"
      ]
     },
     "metadata": {},
     "output_type": "display_data"
    }
   ],
   "source": [
    "df['Carrier'].value_counts().plot(\n",
    "    kind='pie', explode=[0.02,0.02,0.02], autopct='%.2f%%', colors=('green','indigo','pink'), pctdistance=0.7, labeldistance=0.4,title='Carrier'\n",
    ")\n",
    "plt.show()"
   ]
  },
  {
   "cell_type": "code",
   "execution_count": 236,
   "metadata": {},
   "outputs": [
    {
     "data": {
      "text/html": [
       "<div>\n",
       "<style scoped>\n",
       "    .dataframe tbody tr th:only-of-type {\n",
       "        vertical-align: middle;\n",
       "    }\n",
       "\n",
       "    .dataframe tbody tr th {\n",
       "        vertical-align: top;\n",
       "    }\n",
       "\n",
       "    .dataframe thead th {\n",
       "        text-align: right;\n",
       "    }\n",
       "</style>\n",
       "<table border=\"1\" class=\"dataframe\">\n",
       "  <thead>\n",
       "    <tr style=\"text-align: right;\">\n",
       "      <th></th>\n",
       "      <th>Origin Port</th>\n",
       "      <th>Carrier</th>\n",
       "      <th>TPT</th>\n",
       "      <th>Service Level</th>\n",
       "      <th>Ship ahead day count</th>\n",
       "      <th>Ship Late Day count</th>\n",
       "      <th>Customer</th>\n",
       "      <th>Product ID</th>\n",
       "      <th>Plant Code</th>\n",
       "      <th>Destination Port</th>\n",
       "      <th>Unit quantity</th>\n",
       "      <th>Weight</th>\n",
       "    </tr>\n",
       "  </thead>\n",
       "  <tbody>\n",
       "    <tr>\n",
       "      <th>8920</th>\n",
       "      <td>PORT04</td>\n",
       "      <td>V444_1</td>\n",
       "      <td>1</td>\n",
       "      <td>DTD</td>\n",
       "      <td>5</td>\n",
       "      <td>0</td>\n",
       "      <td>V55555555555555_8</td>\n",
       "      <td>1690619</td>\n",
       "      <td>PLANT03</td>\n",
       "      <td>PORT09</td>\n",
       "      <td>283</td>\n",
       "      <td>0.482263</td>\n",
       "    </tr>\n",
       "    <tr>\n",
       "      <th>6420</th>\n",
       "      <td>PORT04</td>\n",
       "      <td>V444_0</td>\n",
       "      <td>2</td>\n",
       "      <td>DTP</td>\n",
       "      <td>5</td>\n",
       "      <td>0</td>\n",
       "      <td>V55555555_7</td>\n",
       "      <td>1689548</td>\n",
       "      <td>PLANT03</td>\n",
       "      <td>PORT09</td>\n",
       "      <td>312</td>\n",
       "      <td>3.575030</td>\n",
       "    </tr>\n",
       "  </tbody>\n",
       "</table>\n",
       "</div>"
      ],
      "text/plain": [
       "     Origin Port Carrier  TPT Service Level  Ship ahead day count  \\\n",
       "8920      PORT04  V444_1    1           DTD                     5   \n",
       "6420      PORT04  V444_0    2           DTP                     5   \n",
       "\n",
       "      Ship Late Day count           Customer  Product ID Plant Code  \\\n",
       "8920                    0  V55555555555555_8     1690619    PLANT03   \n",
       "6420                    0        V55555555_7     1689548    PLANT03   \n",
       "\n",
       "     Destination Port  Unit quantity    Weight  \n",
       "8920           PORT09            283  0.482263  \n",
       "6420           PORT09            312  3.575030  "
      ]
     },
     "execution_count": 236,
     "metadata": {},
     "output_type": "execute_result"
    }
   ],
   "source": [
    "df.sample(n=2)"
   ]
  },
  {
   "cell_type": "code",
   "execution_count": 240,
   "metadata": {},
   "outputs": [],
   "source": [
    "# drop Customer column\n",
    "\n",
    "df.drop(\n",
    "    columns=['Customer'], inplace=True\n",
    ")"
   ]
  },
  {
   "cell_type": "markdown",
   "metadata": {},
   "source": [
    "            More on Exploratory Data Analysis"
   ]
  },
  {
   "cell_type": "code",
   "execution_count": 241,
   "metadata": {},
   "outputs": [
    {
     "data": {
      "text/html": [
       "<div>\n",
       "<style scoped>\n",
       "    .dataframe tbody tr th:only-of-type {\n",
       "        vertical-align: middle;\n",
       "    }\n",
       "\n",
       "    .dataframe tbody tr th {\n",
       "        vertical-align: top;\n",
       "    }\n",
       "\n",
       "    .dataframe thead th {\n",
       "        text-align: right;\n",
       "    }\n",
       "</style>\n",
       "<table border=\"1\" class=\"dataframe\">\n",
       "  <thead>\n",
       "    <tr style=\"text-align: right;\">\n",
       "      <th></th>\n",
       "      <th>Origin Port</th>\n",
       "      <th>Carrier</th>\n",
       "      <th>TPT</th>\n",
       "      <th>Service Level</th>\n",
       "      <th>Ship ahead day count</th>\n",
       "      <th>Ship Late Day count</th>\n",
       "      <th>Product ID</th>\n",
       "      <th>Plant Code</th>\n",
       "      <th>Destination Port</th>\n",
       "      <th>Unit quantity</th>\n",
       "      <th>Weight</th>\n",
       "    </tr>\n",
       "  </thead>\n",
       "  <tbody>\n",
       "    <tr>\n",
       "      <th>7273</th>\n",
       "      <td>PORT04</td>\n",
       "      <td>V444_1</td>\n",
       "      <td>1</td>\n",
       "      <td>DTD</td>\n",
       "      <td>1</td>\n",
       "      <td>0</td>\n",
       "      <td>1696073</td>\n",
       "      <td>PLANT03</td>\n",
       "      <td>PORT09</td>\n",
       "      <td>540</td>\n",
       "      <td>1.946388</td>\n",
       "    </tr>\n",
       "    <tr>\n",
       "      <th>193</th>\n",
       "      <td>PORT04</td>\n",
       "      <td>V44_3</td>\n",
       "      <td>4</td>\n",
       "      <td>CRF</td>\n",
       "      <td>0</td>\n",
       "      <td>0</td>\n",
       "      <td>1699327</td>\n",
       "      <td>PLANT03</td>\n",
       "      <td>PORT09</td>\n",
       "      <td>926</td>\n",
       "      <td>2.697478</td>\n",
       "    </tr>\n",
       "  </tbody>\n",
       "</table>\n",
       "</div>"
      ],
      "text/plain": [
       "     Origin Port Carrier  TPT Service Level  Ship ahead day count  \\\n",
       "7273      PORT04  V444_1    1           DTD                     1   \n",
       "193       PORT04   V44_3    4           CRF                     0   \n",
       "\n",
       "      Ship Late Day count  Product ID Plant Code Destination Port  \\\n",
       "7273                    0     1696073    PLANT03           PORT09   \n",
       "193                     0     1699327    PLANT03           PORT09   \n",
       "\n",
       "      Unit quantity    Weight  \n",
       "7273            540  1.946388  \n",
       "193             926  2.697478  "
      ]
     },
     "execution_count": 241,
     "metadata": {},
     "output_type": "execute_result"
    }
   ],
   "source": [
    "df.sample(n=2)"
   ]
  },
  {
   "cell_type": "code",
   "execution_count": 247,
   "metadata": {},
   "outputs": [
    {
     "data": {
      "text/html": [
       "<div>\n",
       "<style scoped>\n",
       "    .dataframe tbody tr th:only-of-type {\n",
       "        vertical-align: middle;\n",
       "    }\n",
       "\n",
       "    .dataframe tbody tr th {\n",
       "        vertical-align: top;\n",
       "    }\n",
       "\n",
       "    .dataframe thead th {\n",
       "        text-align: right;\n",
       "    }\n",
       "</style>\n",
       "<table border=\"1\" class=\"dataframe\">\n",
       "  <thead>\n",
       "    <tr style=\"text-align: right;\">\n",
       "      <th></th>\n",
       "      <th>TPT</th>\n",
       "      <th>Service Level</th>\n",
       "      <th>size</th>\n",
       "    </tr>\n",
       "  </thead>\n",
       "  <tbody>\n",
       "    <tr>\n",
       "      <th>6</th>\n",
       "      <td>2</td>\n",
       "      <td>DTP</td>\n",
       "      <td>6156</td>\n",
       "    </tr>\n",
       "    <tr>\n",
       "      <th>3</th>\n",
       "      <td>1</td>\n",
       "      <td>DTD</td>\n",
       "      <td>1984</td>\n",
       "    </tr>\n",
       "    <tr>\n",
       "      <th>0</th>\n",
       "      <td>0</td>\n",
       "      <td>CRF</td>\n",
       "      <td>377</td>\n",
       "    </tr>\n",
       "    <tr>\n",
       "      <th>4</th>\n",
       "      <td>2</td>\n",
       "      <td>CRF</td>\n",
       "      <td>195</td>\n",
       "    </tr>\n",
       "    <tr>\n",
       "      <th>9</th>\n",
       "      <td>4</td>\n",
       "      <td>CRF</td>\n",
       "      <td>143</td>\n",
       "    </tr>\n",
       "    <tr>\n",
       "      <th>2</th>\n",
       "      <td>1</td>\n",
       "      <td>CRF</td>\n",
       "      <td>139</td>\n",
       "    </tr>\n",
       "    <tr>\n",
       "      <th>5</th>\n",
       "      <td>2</td>\n",
       "      <td>DTD</td>\n",
       "      <td>129</td>\n",
       "    </tr>\n",
       "    <tr>\n",
       "      <th>1</th>\n",
       "      <td>0</td>\n",
       "      <td>DTP</td>\n",
       "      <td>34</td>\n",
       "    </tr>\n",
       "    <tr>\n",
       "      <th>7</th>\n",
       "      <td>3</td>\n",
       "      <td>DTD</td>\n",
       "      <td>30</td>\n",
       "    </tr>\n",
       "    <tr>\n",
       "      <th>8</th>\n",
       "      <td>3</td>\n",
       "      <td>DTP</td>\n",
       "      <td>28</td>\n",
       "    </tr>\n",
       "  </tbody>\n",
       "</table>\n",
       "</div>"
      ],
      "text/plain": [
       "   TPT Service Level  size\n",
       "6    2           DTP  6156\n",
       "3    1           DTD  1984\n",
       "0    0           CRF   377\n",
       "4    2           CRF   195\n",
       "9    4           CRF   143\n",
       "2    1           CRF   139\n",
       "5    2           DTD   129\n",
       "1    0           DTP    34\n",
       "7    3           DTD    30\n",
       "8    3           DTP    28"
      ]
     },
     "execution_count": 247,
     "metadata": {},
     "output_type": "execute_result"
    }
   ],
   "source": [
    "df.groupby(['TPT'\t,'Service Level'], as_index=False).size().sort_values(by='size', ascending=False)"
   ]
  },
  {
   "cell_type": "code",
   "execution_count": 252,
   "metadata": {},
   "outputs": [
    {
     "data": {
      "image/png": "[encoded data removed]",
      "text/plain": [
       "<Figure size 720x288 with 1 Axes>"
      ]
     },
     "metadata": {
      "needs_background": "light"
     },
     "output_type": "display_data"
    }
   ],
   "source": [
    "df.groupby(['TPT','Service Level'], as_index=False).size().sort_values(by='size', ascending=False).plot(\n",
    "    kind='barh',\n",
    "    figsize=(10,4),\n",
    "    title='Highest Profit per year',\n",
    "    xlabel='Service Level',\n",
    ")\n",
    "\n",
    "plt.show()"
   ]
  },
  {
   "cell_type": "markdown",
   "metadata": {},
   "source": [
    "        Observation: TPT 6 has highest service level "
   ]
  },
  {
   "cell_type": "code",
   "execution_count": 253,
   "metadata": {},
   "outputs": [
    {
     "data": {
      "text/html": [
       "<div>\n",
       "<style scoped>\n",
       "    .dataframe tbody tr th:only-of-type {\n",
       "        vertical-align: middle;\n",
       "    }\n",
       "\n",
       "    .dataframe tbody tr th {\n",
       "        vertical-align: top;\n",
       "    }\n",
       "\n",
       "    .dataframe thead th {\n",
       "        text-align: right;\n",
       "    }\n",
       "</style>\n",
       "<table border=\"1\" class=\"dataframe\">\n",
       "  <thead>\n",
       "    <tr style=\"text-align: right;\">\n",
       "      <th></th>\n",
       "      <th>Origin Port</th>\n",
       "      <th>Carrier</th>\n",
       "      <th>TPT</th>\n",
       "      <th>Service Level</th>\n",
       "      <th>Ship ahead day count</th>\n",
       "      <th>Ship Late Day count</th>\n",
       "      <th>Product ID</th>\n",
       "      <th>Plant Code</th>\n",
       "      <th>Destination Port</th>\n",
       "      <th>Unit quantity</th>\n",
       "      <th>Weight</th>\n",
       "    </tr>\n",
       "  </thead>\n",
       "  <tbody>\n",
       "    <tr>\n",
       "      <th>205</th>\n",
       "      <td>PORT04</td>\n",
       "      <td>V44_3</td>\n",
       "      <td>4</td>\n",
       "      <td>CRF</td>\n",
       "      <td>0</td>\n",
       "      <td>0</td>\n",
       "      <td>1699416</td>\n",
       "      <td>PLANT03</td>\n",
       "      <td>PORT09</td>\n",
       "      <td>2682</td>\n",
       "      <td>7.881128</td>\n",
       "    </tr>\n",
       "    <tr>\n",
       "      <th>1523</th>\n",
       "      <td>PORT04</td>\n",
       "      <td>V444_0</td>\n",
       "      <td>2</td>\n",
       "      <td>DTP</td>\n",
       "      <td>3</td>\n",
       "      <td>0</td>\n",
       "      <td>1676566</td>\n",
       "      <td>PLANT03</td>\n",
       "      <td>PORT09</td>\n",
       "      <td>490</td>\n",
       "      <td>2.518890</td>\n",
       "    </tr>\n",
       "  </tbody>\n",
       "</table>\n",
       "</div>"
      ],
      "text/plain": [
       "     Origin Port Carrier  TPT Service Level  Ship ahead day count  \\\n",
       "205       PORT04   V44_3    4           CRF                     0   \n",
       "1523      PORT04  V444_0    2           DTP                     3   \n",
       "\n",
       "      Ship Late Day count  Product ID Plant Code Destination Port  \\\n",
       "205                     0     1699416    PLANT03           PORT09   \n",
       "1523                    0     1676566    PLANT03           PORT09   \n",
       "\n",
       "      Unit quantity    Weight  \n",
       "205            2682  7.881128  \n",
       "1523            490  2.518890  "
      ]
     },
     "execution_count": 253,
     "metadata": {},
     "output_type": "execute_result"
    }
   ],
   "source": [
    "df.sample(n=2)"
   ]
  },
  {
   "cell_type": "code",
   "execution_count": 257,
   "metadata": {},
   "outputs": [
    {
     "data": {
      "text/html": [
       "<div>\n",
       "<style scoped>\n",
       "    .dataframe tbody tr th:only-of-type {\n",
       "        vertical-align: middle;\n",
       "    }\n",
       "\n",
       "    .dataframe tbody tr th {\n",
       "        vertical-align: top;\n",
       "    }\n",
       "\n",
       "    .dataframe thead th {\n",
       "        text-align: right;\n",
       "    }\n",
       "</style>\n",
       "<table border=\"1\" class=\"dataframe\">\n",
       "  <thead>\n",
       "    <tr style=\"text-align: right;\">\n",
       "      <th></th>\n",
       "      <th>Carrier</th>\n",
       "      <th>TPT</th>\n",
       "      <th>size</th>\n",
       "    </tr>\n",
       "  </thead>\n",
       "  <tbody>\n",
       "    <tr>\n",
       "      <th>1</th>\n",
       "      <td>V444_0</td>\n",
       "      <td>2</td>\n",
       "      <td>6172</td>\n",
       "    </tr>\n",
       "    <tr>\n",
       "      <th>3</th>\n",
       "      <td>V444_1</td>\n",
       "      <td>1</td>\n",
       "      <td>1984</td>\n",
       "    </tr>\n",
       "    <tr>\n",
       "      <th>5</th>\n",
       "      <td>V44_3</td>\n",
       "      <td>0</td>\n",
       "      <td>377</td>\n",
       "    </tr>\n",
       "    <tr>\n",
       "      <th>7</th>\n",
       "      <td>V44_3</td>\n",
       "      <td>2</td>\n",
       "      <td>195</td>\n",
       "    </tr>\n",
       "    <tr>\n",
       "      <th>8</th>\n",
       "      <td>V44_3</td>\n",
       "      <td>4</td>\n",
       "      <td>143</td>\n",
       "    </tr>\n",
       "    <tr>\n",
       "      <th>6</th>\n",
       "      <td>V44_3</td>\n",
       "      <td>1</td>\n",
       "      <td>139</td>\n",
       "    </tr>\n",
       "    <tr>\n",
       "      <th>4</th>\n",
       "      <td>V444_1</td>\n",
       "      <td>2</td>\n",
       "      <td>113</td>\n",
       "    </tr>\n",
       "    <tr>\n",
       "      <th>2</th>\n",
       "      <td>V444_0</td>\n",
       "      <td>3</td>\n",
       "      <td>58</td>\n",
       "    </tr>\n",
       "    <tr>\n",
       "      <th>0</th>\n",
       "      <td>V444_0</td>\n",
       "      <td>0</td>\n",
       "      <td>34</td>\n",
       "    </tr>\n",
       "  </tbody>\n",
       "</table>\n",
       "</div>"
      ],
      "text/plain": [
       "  Carrier  TPT  size\n",
       "1  V444_0    2  6172\n",
       "3  V444_1    1  1984\n",
       "5   V44_3    0   377\n",
       "7   V44_3    2   195\n",
       "8   V44_3    4   143\n",
       "6   V44_3    1   139\n",
       "4  V444_1    2   113\n",
       "2  V444_0    3    58\n",
       "0  V444_0    0    34"
      ]
     },
     "execution_count": 257,
     "metadata": {},
     "output_type": "execute_result"
    }
   ],
   "source": [
    "df.groupby(['Carrier','TPT'], as_index=False).size().sort_values(by='size', ascending=False)"
   ]
  },
  {
   "cell_type": "markdown",
   "metadata": {},
   "source": [
    "                Observation: V444_0 has higher size"
   ]
  },
  {
   "cell_type": "markdown",
   "metadata": {},
   "source": [
    "                            - A lot more can be done on EDA to generate insights on the data"
   ]
  },
  {
   "cell_type": "markdown",
   "metadata": {},
   "source": [
    "        Preparing data for machine learning\n",
    "                - This is a supervised machine learning where we predict the weight"
   ]
  },
  {
   "cell_type": "code",
   "execution_count": 262,
   "metadata": {},
   "outputs": [
    {
     "data": {
      "text/html": [
       "<div>\n",
       "<style scoped>\n",
       "    .dataframe tbody tr th:only-of-type {\n",
       "        vertical-align: middle;\n",
       "    }\n",
       "\n",
       "    .dataframe tbody tr th {\n",
       "        vertical-align: top;\n",
       "    }\n",
       "\n",
       "    .dataframe thead th {\n",
       "        text-align: right;\n",
       "    }\n",
       "</style>\n",
       "<table border=\"1\" class=\"dataframe\">\n",
       "  <thead>\n",
       "    <tr style=\"text-align: right;\">\n",
       "      <th></th>\n",
       "      <th>Origin Port</th>\n",
       "      <th>Carrier</th>\n",
       "      <th>TPT</th>\n",
       "      <th>Service Level</th>\n",
       "      <th>Ship ahead day count</th>\n",
       "      <th>Ship Late Day count</th>\n",
       "      <th>Product ID</th>\n",
       "      <th>Plant Code</th>\n",
       "      <th>Destination Port</th>\n",
       "      <th>Unit quantity</th>\n",
       "      <th>Weight</th>\n",
       "    </tr>\n",
       "  </thead>\n",
       "  <tbody>\n",
       "    <tr>\n",
       "      <th>697</th>\n",
       "      <td>PORT04</td>\n",
       "      <td>V44_3</td>\n",
       "      <td>0</td>\n",
       "      <td>CRF</td>\n",
       "      <td>3</td>\n",
       "      <td>0</td>\n",
       "      <td>1699419</td>\n",
       "      <td>PLANT03</td>\n",
       "      <td>PORT09</td>\n",
       "      <td>5066</td>\n",
       "      <td>13.154861</td>\n",
       "    </tr>\n",
       "    <tr>\n",
       "      <th>7876</th>\n",
       "      <td>PORT04</td>\n",
       "      <td>V444_1</td>\n",
       "      <td>1</td>\n",
       "      <td>DTD</td>\n",
       "      <td>0</td>\n",
       "      <td>0</td>\n",
       "      <td>1699553</td>\n",
       "      <td>PLANT03</td>\n",
       "      <td>PORT09</td>\n",
       "      <td>1075</td>\n",
       "      <td>3.481718</td>\n",
       "    </tr>\n",
       "  </tbody>\n",
       "</table>\n",
       "</div>"
      ],
      "text/plain": [
       "     Origin Port Carrier  TPT Service Level  Ship ahead day count  \\\n",
       "697       PORT04   V44_3    0           CRF                     3   \n",
       "7876      PORT04  V444_1    1           DTD                     0   \n",
       "\n",
       "      Ship Late Day count  Product ID Plant Code Destination Port  \\\n",
       "697                     0     1699419    PLANT03           PORT09   \n",
       "7876                    0     1699553    PLANT03           PORT09   \n",
       "\n",
       "      Unit quantity     Weight  \n",
       "697            5066  13.154861  \n",
       "7876           1075   3.481718  "
      ]
     },
     "execution_count": 262,
     "metadata": {},
     "output_type": "execute_result"
    }
   ],
   "source": [
    "df.sample(n=2)"
   ]
  },
  {
   "cell_type": "code",
   "execution_count": 263,
   "metadata": {},
   "outputs": [],
   "source": [
    "# convert categorical columns to values the machine can understand"
   ]
  },
  {
   "cell_type": "code",
   "execution_count": 266,
   "metadata": {},
   "outputs": [],
   "source": [
    "from sklearn.preprocessing import LabelEncoder\n",
    "\n",
    "label_encoder = LabelEncoder()\n",
    "\n",
    "df['Origin Port'] = label_encoder.fit_transform(df['Origin Port'])\n",
    "df['Carrier'] = label_encoder.fit_transform(df['Carrier'])\n",
    "df['Service Level'] = label_encoder.fit_transform(df['Service Level'])\n",
    "df['Plant Code'] = label_encoder.fit_transform(df['Plant Code'])\n",
    "df['Destination Port'] = label_encoder.fit_transform(df['Destination Port'])"
   ]
  },
  {
   "cell_type": "code",
   "execution_count": 267,
   "metadata": {},
   "outputs": [
    {
     "data": {
      "text/html": [
       "<div>\n",
       "<style scoped>\n",
       "    .dataframe tbody tr th:only-of-type {\n",
       "        vertical-align: middle;\n",
       "    }\n",
       "\n",
       "    .dataframe tbody tr th {\n",
       "        vertical-align: top;\n",
       "    }\n",
       "\n",
       "    .dataframe thead th {\n",
       "        text-align: right;\n",
       "    }\n",
       "</style>\n",
       "<table border=\"1\" class=\"dataframe\">\n",
       "  <thead>\n",
       "    <tr style=\"text-align: right;\">\n",
       "      <th></th>\n",
       "      <th>Origin Port</th>\n",
       "      <th>Carrier</th>\n",
       "      <th>TPT</th>\n",
       "      <th>Service Level</th>\n",
       "      <th>Ship ahead day count</th>\n",
       "      <th>Ship Late Day count</th>\n",
       "      <th>Product ID</th>\n",
       "      <th>Plant Code</th>\n",
       "      <th>Destination Port</th>\n",
       "      <th>Unit quantity</th>\n",
       "      <th>Weight</th>\n",
       "    </tr>\n",
       "  </thead>\n",
       "  <tbody>\n",
       "    <tr>\n",
       "      <th>4242</th>\n",
       "      <td>0</td>\n",
       "      <td>0</td>\n",
       "      <td>2</td>\n",
       "      <td>2</td>\n",
       "      <td>0</td>\n",
       "      <td>0</td>\n",
       "      <td>1677884</td>\n",
       "      <td>0</td>\n",
       "      <td>0</td>\n",
       "      <td>1793</td>\n",
       "      <td>7.280000</td>\n",
       "    </tr>\n",
       "    <tr>\n",
       "      <th>5190</th>\n",
       "      <td>0</td>\n",
       "      <td>0</td>\n",
       "      <td>2</td>\n",
       "      <td>2</td>\n",
       "      <td>0</td>\n",
       "      <td>3</td>\n",
       "      <td>1688824</td>\n",
       "      <td>0</td>\n",
       "      <td>0</td>\n",
       "      <td>402</td>\n",
       "      <td>2.111871</td>\n",
       "    </tr>\n",
       "  </tbody>\n",
       "</table>\n",
       "</div>"
      ],
      "text/plain": [
       "      Origin Port  Carrier  TPT  Service Level  Ship ahead day count  \\\n",
       "4242            0        0    2              2                     0   \n",
       "5190            0        0    2              2                     0   \n",
       "\n",
       "      Ship Late Day count  Product ID  Plant Code  Destination Port  \\\n",
       "4242                    0     1677884           0                 0   \n",
       "5190                    3     1688824           0                 0   \n",
       "\n",
       "      Unit quantity    Weight  \n",
       "4242           1793  7.280000  \n",
       "5190            402  2.111871  "
      ]
     },
     "execution_count": 267,
     "metadata": {},
     "output_type": "execute_result"
    }
   ],
   "source": [
    "df.sample(n=2)"
   ]
  },
  {
   "cell_type": "code",
   "execution_count": 268,
   "metadata": {},
   "outputs": [
    {
     "name": "stdout",
     "output_type": "stream",
     "text": [
      "<class 'pandas.core.frame.DataFrame'>\n",
      "RangeIndex: 9215 entries, 0 to 9214\n",
      "Data columns (total 11 columns):\n",
      " #   Column                Non-Null Count  Dtype  \n",
      "---  ------                --------------  -----  \n",
      " 0   Origin Port           9215 non-null   int32  \n",
      " 1   Carrier               9215 non-null   int32  \n",
      " 2   TPT                   9215 non-null   int64  \n",
      " 3   Service Level         9215 non-null   int32  \n",
      " 4   Ship ahead day count  9215 non-null   int64  \n",
      " 5   Ship Late Day count   9215 non-null   int64  \n",
      " 6   Product ID            9215 non-null   int64  \n",
      " 7   Plant Code            9215 non-null   int32  \n",
      " 8   Destination Port      9215 non-null   int32  \n",
      " 9   Unit quantity         9215 non-null   int64  \n",
      " 10  Weight                9215 non-null   float64\n",
      "dtypes: float64(1), int32(5), int64(5)\n",
      "memory usage: 612.1 KB\n"
     ]
    }
   ],
   "source": [
    "df.info()"
   ]
  },
  {
   "cell_type": "code",
   "execution_count": 277,
   "metadata": {},
   "outputs": [],
   "source": [
    "df.drop(\n",
    "    'Product ID', axis=1, inplace=True\n",
    ")"
   ]
  },
  {
   "cell_type": "code",
   "execution_count": 278,
   "metadata": {},
   "outputs": [
    {
     "data": {
      "text/html": [
       "<div>\n",
       "<style scoped>\n",
       "    .dataframe tbody tr th:only-of-type {\n",
       "        vertical-align: middle;\n",
       "    }\n",
       "\n",
       "    .dataframe tbody tr th {\n",
       "        vertical-align: top;\n",
       "    }\n",
       "\n",
       "    .dataframe thead th {\n",
       "        text-align: right;\n",
       "    }\n",
       "</style>\n",
       "<table border=\"1\" class=\"dataframe\">\n",
       "  <thead>\n",
       "    <tr style=\"text-align: right;\">\n",
       "      <th></th>\n",
       "      <th>Origin Port</th>\n",
       "      <th>Carrier</th>\n",
       "      <th>TPT</th>\n",
       "      <th>Service Level</th>\n",
       "      <th>Ship ahead day count</th>\n",
       "      <th>Ship Late Day count</th>\n",
       "      <th>Plant Code</th>\n",
       "      <th>Destination Port</th>\n",
       "      <th>Unit quantity</th>\n",
       "      <th>Weight</th>\n",
       "    </tr>\n",
       "  </thead>\n",
       "  <tbody>\n",
       "    <tr>\n",
       "      <th>6045</th>\n",
       "      <td>0</td>\n",
       "      <td>0</td>\n",
       "      <td>2</td>\n",
       "      <td>2</td>\n",
       "      <td>3</td>\n",
       "      <td>0</td>\n",
       "      <td>0</td>\n",
       "      <td>0</td>\n",
       "      <td>1062</td>\n",
       "      <td>7.580000</td>\n",
       "    </tr>\n",
       "    <tr>\n",
       "      <th>1708</th>\n",
       "      <td>0</td>\n",
       "      <td>0</td>\n",
       "      <td>2</td>\n",
       "      <td>2</td>\n",
       "      <td>0</td>\n",
       "      <td>0</td>\n",
       "      <td>0</td>\n",
       "      <td>0</td>\n",
       "      <td>276</td>\n",
       "      <td>1.705635</td>\n",
       "    </tr>\n",
       "  </tbody>\n",
       "</table>\n",
       "</div>"
      ],
      "text/plain": [
       "      Origin Port  Carrier  TPT  Service Level  Ship ahead day count  \\\n",
       "6045            0        0    2              2                     3   \n",
       "1708            0        0    2              2                     0   \n",
       "\n",
       "      Ship Late Day count  Plant Code  Destination Port  Unit quantity  \\\n",
       "6045                    0           0                 0           1062   \n",
       "1708                    0           0                 0            276   \n",
       "\n",
       "        Weight  \n",
       "6045  7.580000  \n",
       "1708  1.705635  "
      ]
     },
     "execution_count": 278,
     "metadata": {},
     "output_type": "execute_result"
    }
   ],
   "source": [
    "df.sample(n=2)"
   ]
  },
  {
   "cell_type": "code",
   "execution_count": 279,
   "metadata": {},
   "outputs": [
    {
     "data": {
      "text/html": [
       "<div>\n",
       "<style scoped>\n",
       "    .dataframe tbody tr th:only-of-type {\n",
       "        vertical-align: middle;\n",
       "    }\n",
       "\n",
       "    .dataframe tbody tr th {\n",
       "        vertical-align: top;\n",
       "    }\n",
       "\n",
       "    .dataframe thead th {\n",
       "        text-align: right;\n",
       "    }\n",
       "</style>\n",
       "<table border=\"1\" class=\"dataframe\">\n",
       "  <thead>\n",
       "    <tr style=\"text-align: right;\">\n",
       "      <th></th>\n",
       "      <th>Origin Port</th>\n",
       "      <th>Carrier</th>\n",
       "      <th>TPT</th>\n",
       "      <th>Service Level</th>\n",
       "      <th>Ship ahead day count</th>\n",
       "      <th>Ship Late Day count</th>\n",
       "      <th>Plant Code</th>\n",
       "      <th>Destination Port</th>\n",
       "      <th>Unit quantity</th>\n",
       "    </tr>\n",
       "  </thead>\n",
       "  <tbody>\n",
       "    <tr>\n",
       "      <th>0</th>\n",
       "      <td>2</td>\n",
       "      <td>2</td>\n",
       "      <td>1</td>\n",
       "      <td>0</td>\n",
       "      <td>3</td>\n",
       "      <td>0</td>\n",
       "      <td>6</td>\n",
       "      <td>0</td>\n",
       "      <td>808</td>\n",
       "    </tr>\n",
       "    <tr>\n",
       "      <th>1</th>\n",
       "      <td>2</td>\n",
       "      <td>2</td>\n",
       "      <td>1</td>\n",
       "      <td>0</td>\n",
       "      <td>3</td>\n",
       "      <td>0</td>\n",
       "      <td>6</td>\n",
       "      <td>0</td>\n",
       "      <td>3188</td>\n",
       "    </tr>\n",
       "    <tr>\n",
       "      <th>2</th>\n",
       "      <td>2</td>\n",
       "      <td>2</td>\n",
       "      <td>1</td>\n",
       "      <td>0</td>\n",
       "      <td>3</td>\n",
       "      <td>0</td>\n",
       "      <td>6</td>\n",
       "      <td>0</td>\n",
       "      <td>2331</td>\n",
       "    </tr>\n",
       "    <tr>\n",
       "      <th>3</th>\n",
       "      <td>2</td>\n",
       "      <td>2</td>\n",
       "      <td>1</td>\n",
       "      <td>0</td>\n",
       "      <td>3</td>\n",
       "      <td>0</td>\n",
       "      <td>6</td>\n",
       "      <td>0</td>\n",
       "      <td>847</td>\n",
       "    </tr>\n",
       "    <tr>\n",
       "      <th>4</th>\n",
       "      <td>2</td>\n",
       "      <td>2</td>\n",
       "      <td>1</td>\n",
       "      <td>0</td>\n",
       "      <td>3</td>\n",
       "      <td>0</td>\n",
       "      <td>6</td>\n",
       "      <td>0</td>\n",
       "      <td>2163</td>\n",
       "    </tr>\n",
       "  </tbody>\n",
       "</table>\n",
       "</div>"
      ],
      "text/plain": [
       "   Origin Port  Carrier  TPT  Service Level  Ship ahead day count  \\\n",
       "0            2        2    1              0                     3   \n",
       "1            2        2    1              0                     3   \n",
       "2            2        2    1              0                     3   \n",
       "3            2        2    1              0                     3   \n",
       "4            2        2    1              0                     3   \n",
       "\n",
       "   Ship Late Day count  Plant Code  Destination Port  Unit quantity  \n",
       "0                    0           6                 0            808  \n",
       "1                    0           6                 0           3188  \n",
       "2                    0           6                 0           2331  \n",
       "3                    0           6                 0            847  \n",
       "4                    0           6                 0           2163  "
      ]
     },
     "execution_count": 279,
     "metadata": {},
     "output_type": "execute_result"
    }
   ],
   "source": [
    "X = df.iloc[:,:-1]\n",
    "X.head()"
   ]
  },
  {
   "cell_type": "code",
   "execution_count": 286,
   "metadata": {},
   "outputs": [
    {
     "data": {
      "text/plain": [
       "0    14.30\n",
       "1    87.94\n",
       "2    61.20\n",
       "3    16.16\n",
       "4    52.34\n",
       "Name: Weight, dtype: float64"
      ]
     },
     "execution_count": 286,
     "metadata": {},
     "output_type": "execute_result"
    }
   ],
   "source": [
    "y = df.iloc[:,-1]\n",
    "y.head()"
   ]
  },
  {
   "cell_type": "code",
   "execution_count": 287,
   "metadata": {},
   "outputs": [],
   "source": [
    "# split the dataset into X and y\n",
    "\n",
    "from sklearn.model_selection import train_test_split\n",
    "\n",
    "X_train, X_test, y_train, y_test = train_test_split(\n",
    "    X,y,test_size=0.23\n",
    ")"
   ]
  },
  {
   "cell_type": "code",
   "execution_count": 290,
   "metadata": {},
   "outputs": [
    {
     "data": {
      "text/plain": [
       "(7095, 9)"
      ]
     },
     "execution_count": 290,
     "metadata": {},
     "output_type": "execute_result"
    }
   ],
   "source": [
    "X_train.shape"
   ]
  },
  {
   "cell_type": "code",
   "execution_count": 292,
   "metadata": {},
   "outputs": [
    {
     "data": {
      "text/plain": [
       "(2120,)"
      ]
     },
     "execution_count": 292,
     "metadata": {},
     "output_type": "execute_result"
    }
   ],
   "source": [
    "y_test.shape"
   ]
  },
  {
   "cell_type": "code",
   "execution_count": 293,
   "metadata": {},
   "outputs": [
    {
     "data": {
      "text/plain": [
       "ExtraTreesRegressor()"
      ]
     },
     "execution_count": 293,
     "metadata": {},
     "output_type": "execute_result"
    }
   ],
   "source": [
    "# Check the feature importances\n",
    "\n",
    "from sklearn.ensemble import ExtraTreesRegressor\n",
    "\n",
    "model = ExtraTreesRegressor()\n",
    "model.fit(X,y)"
   ]
  },
  {
   "cell_type": "code",
   "execution_count": 294,
   "metadata": {},
   "outputs": [
    {
     "name": "stdout",
     "output_type": "stream",
     "text": [
      "[0.11990487 0.0079256  0.00671134 0.01545632 0.04113819 0.00098338\n",
      " 0.03394275 0.         0.77393754]\n"
     ]
    }
   ],
   "source": [
    "print(model.feature_importances_)"
   ]
  },
  {
   "cell_type": "code",
   "execution_count": 298,
   "metadata": {},
   "outputs": [
    {
     "data": {
      "image/png": "[encoded data removed]",
      "text/plain": [
       "<Figure size 576x576 with 1 Axes>"
      ]
     },
     "metadata": {
      "needs_background": "light"
     },
     "output_type": "display_data"
    }
   ],
   "source": [
    "# plot the graph of feature importances for better visualizations\n",
    "\n",
    "f_importances = pd.Series(model.feature_importances_, index=X.columns)\n",
    "f_importances.nlargest(6).plot(\n",
    "    kind='barh',\n",
    "    color=('green', 'blue', 'red', 'black', 'yellow', 'indigo')\n",
    ")\n",
    "plt.show()"
   ]
  },
  {
   "cell_type": "markdown",
   "metadata": {},
   "source": [
    "        lets use random forests and ensembling"
   ]
  },
  {
   "cell_type": "markdown",
   "metadata": {},
   "source": [
    "        1)"
   ]
  },
  {
   "cell_type": "code",
   "execution_count": 301,
   "metadata": {},
   "outputs": [
    {
     "data": {
      "text/plain": [
       "RandomForestRegressor(n_jobs=1)"
      ]
     },
     "execution_count": 301,
     "metadata": {},
     "output_type": "execute_result"
    }
   ],
   "source": [
    "from sklearn.ensemble import RandomForestRegressor\n",
    "\n",
    "rgr = RandomForestRegressor(n_jobs=1)\n",
    "rgr.fit(X_train, y_train)"
   ]
  },
  {
   "cell_type": "code",
   "execution_count": 302,
   "metadata": {},
   "outputs": [],
   "source": [
    "# predict\n",
    "\n",
    "y_test_pred = rgr.predict(X_test)"
   ]
  },
  {
   "cell_type": "code",
   "execution_count": 303,
   "metadata": {},
   "outputs": [
    {
     "name": "stdout",
     "output_type": "stream",
     "text": [
      "R2: 0.33, MSE: 2526.94, RMSE: 13.29, MAE 50.27\n"
     ]
    }
   ],
   "source": [
    "# evaluate accuracy\n",
    "\n",
    "from sklearn.metrics import mean_absolute_error, mean_squared_error, r2_score\n",
    "\n",
    "print(\n",
    "    'R2: {:.2f}, MSE: {:.2f}, RMSE: {:.2f}, MAE {:.2f}'.format(\n",
    "        r2_score(y_test, y_test_pred),\n",
    "        mean_squared_error(y_test, y_test_pred),\n",
    "        mean_absolute_error(y_test, y_test_pred),\n",
    "        np.sqrt(mean_squared_error(y_test, y_test_pred)) # RMSE\n",
    "    )\n",
    ")"
   ]
  },
  {
   "cell_type": "code",
   "execution_count": null,
   "metadata": {},
   "outputs": [],
   "source": [
    "# performed poorly at 33%\n",
    "\n",
    "# lets increase the score"
   ]
  },
  {
   "cell_type": "markdown",
   "metadata": {},
   "source": [
    "        2)"
   ]
  },
  {
   "cell_type": "code",
   "execution_count": 306,
   "metadata": {},
   "outputs": [],
   "source": [
    "# number of trees in random forest\n",
    "n_estimators = [int(x) for x in np.linspace(start=100, stop=1200, num=12)]\n",
    "\n",
    "# Number of features to consider at every split\n",
    "max_features = ['auto', 'sqrt']\n",
    "\n",
    "# maximum number of levels in tree\n",
    "max_depth = [int(x) for x in np.linspace(5, 30, num = 6)]\n",
    "\n",
    "# minimum number of samples required to split a node\n",
    "min_samples_split = [2, 5, 10, 15, 100]\n",
    "\n",
    "# minimum number of samples required at each leaf node\n",
    "min_samples_leaf = [1, 2, 5, 10]"
   ]
  },
  {
   "cell_type": "code",
   "execution_count": 309,
   "metadata": {},
   "outputs": [
    {
     "name": "stdout",
     "output_type": "stream",
     "text": [
      "{'n_estimators': [100, 200, 300, 400, 500, 600, 700, 800, 900, 1000, 1100, 1200], 'max_features': ['auto', 'sqrt'], 'max_depth': [5, 10, 15, 20, 25, 30], 'min_samples_split': [2, 5, 10, 15, 100], 'min_samples_leaf': [1, 2, 5, 10]}\n"
     ]
    }
   ],
   "source": [
    "random_grid = {\n",
    "    'n_estimators': n_estimators,\n",
    "    'max_features': max_features,\n",
    "    'max_depth': max_depth,\n",
    "    'min_samples_split': min_samples_split,\n",
    "    'min_samples_leaf': min_samples_leaf \n",
    "}\n",
    "print(random_grid)"
   ]
  },
  {
   "cell_type": "code",
   "execution_count": 313,
   "metadata": {},
   "outputs": [],
   "source": [
    "# use randomizedcv\n",
    "\n",
    "from sklearn.model_selection import RandomizedSearchCV\n",
    "from sklearn.ensemble import RandomForestRegressor\n",
    "\n",
    "rgr = RandomForestRegressor()\n",
    "rf = RandomizedSearchCV(\n",
    "    estimator=rgr,\n",
    "    param_distributions=random_grid,\n",
    "    scoring='neg_mean_squared_error',\n",
    "    n_iter=10,\n",
    "    cv=5,\n",
    "    verbose=2,\n",
    "    random_state=42,\n",
    "    n_jobs=1\n",
    ")"
   ]
  },
  {
   "cell_type": "code",
   "execution_count": 314,
   "metadata": {},
   "outputs": [
    {
     "name": "stdout",
     "output_type": "stream",
     "text": [
      "Fitting 5 folds for each of 10 candidates, totalling 50 fits\n",
      "[CV] END max_depth=10, max_features=sqrt, min_samples_leaf=5, min_samples_split=5, n_estimators=900; total time=   8.2s\n",
      "[CV] END max_depth=10, max_features=sqrt, min_samples_leaf=5, min_samples_split=5, n_estimators=900; total time=   6.9s\n",
      "[CV] END max_depth=10, max_features=sqrt, min_samples_leaf=5, min_samples_split=5, n_estimators=900; total time=   5.5s\n",
      "[CV] END max_depth=10, max_features=sqrt, min_samples_leaf=5, min_samples_split=5, n_estimators=900; total time=   6.3s\n",
      "[CV] END max_depth=10, max_features=sqrt, min_samples_leaf=5, min_samples_split=5, n_estimators=900; total time=   4.5s\n",
      "[CV] END max_depth=15, max_features=sqrt, min_samples_leaf=2, min_samples_split=10, n_estimators=1100; total time=   9.1s\n",
      "[CV] END max_depth=15, max_features=sqrt, min_samples_leaf=2, min_samples_split=10, n_estimators=1100; total time=  11.9s\n",
      "[CV] END max_depth=15, max_features=sqrt, min_samples_leaf=2, min_samples_split=10, n_estimators=1100; total time=   9.4s\n",
      "[CV] END max_depth=15, max_features=sqrt, min_samples_leaf=2, min_samples_split=10, n_estimators=1100; total time=   7.1s\n",
      "[CV] END max_depth=15, max_features=sqrt, min_samples_leaf=2, min_samples_split=10, n_estimators=1100; total time=   6.8s\n",
      "[CV] END max_depth=15, max_features=auto, min_samples_leaf=5, min_samples_split=100, n_estimators=300; total time=   2.8s\n",
      "[CV] END max_depth=15, max_features=auto, min_samples_leaf=5, min_samples_split=100, n_estimators=300; total time=   2.6s\n",
      "[CV] END max_depth=15, max_features=auto, min_samples_leaf=5, min_samples_split=100, n_estimators=300; total time=   3.2s\n",
      "[CV] END max_depth=15, max_features=auto, min_samples_leaf=5, min_samples_split=100, n_estimators=300; total time=   2.6s\n",
      "[CV] END max_depth=15, max_features=auto, min_samples_leaf=5, min_samples_split=100, n_estimators=300; total time=   2.6s\n",
      "[CV] END max_depth=15, max_features=auto, min_samples_leaf=5, min_samples_split=5, n_estimators=400; total time=   4.0s\n",
      "[CV] END max_depth=15, max_features=auto, min_samples_leaf=5, min_samples_split=5, n_estimators=400; total time=   4.1s\n",
      "[CV] END max_depth=15, max_features=auto, min_samples_leaf=5, min_samples_split=5, n_estimators=400; total time=   4.5s\n",
      "[CV] END max_depth=15, max_features=auto, min_samples_leaf=5, min_samples_split=5, n_estimators=400; total time=   4.1s\n",
      "[CV] END max_depth=15, max_features=auto, min_samples_leaf=5, min_samples_split=5, n_estimators=400; total time=   4.0s\n",
      "[CV] END max_depth=20, max_features=auto, min_samples_leaf=10, min_samples_split=5, n_estimators=700; total time=   8.8s\n",
      "[CV] END max_depth=20, max_features=auto, min_samples_leaf=10, min_samples_split=5, n_estimators=700; total time=   8.1s\n",
      "[CV] END max_depth=20, max_features=auto, min_samples_leaf=10, min_samples_split=5, n_estimators=700; total time=   7.6s\n",
      "[CV] END max_depth=20, max_features=auto, min_samples_leaf=10, min_samples_split=5, n_estimators=700; total time=  13.7s\n",
      "[CV] END max_depth=20, max_features=auto, min_samples_leaf=10, min_samples_split=5, n_estimators=700; total time=  15.5s\n",
      "[CV] END max_depth=25, max_features=sqrt, min_samples_leaf=1, min_samples_split=2, n_estimators=1000; total time=  17.0s\n",
      "[CV] END max_depth=25, max_features=sqrt, min_samples_leaf=1, min_samples_split=2, n_estimators=1000; total time=  12.3s\n",
      "[CV] END max_depth=25, max_features=sqrt, min_samples_leaf=1, min_samples_split=2, n_estimators=1000; total time=  11.3s\n",
      "[CV] END max_depth=25, max_features=sqrt, min_samples_leaf=1, min_samples_split=2, n_estimators=1000; total time=  10.4s\n",
      "[CV] END max_depth=25, max_features=sqrt, min_samples_leaf=1, min_samples_split=2, n_estimators=1000; total time=  10.7s\n",
      "[CV] END max_depth=5, max_features=sqrt, min_samples_leaf=10, min_samples_split=15, n_estimators=1100; total time= 1.1min\n",
      "[CV] END max_depth=5, max_features=sqrt, min_samples_leaf=10, min_samples_split=15, n_estimators=1100; total time=   3.8s\n",
      "[CV] END max_depth=5, max_features=sqrt, min_samples_leaf=10, min_samples_split=15, n_estimators=1100; total time=   3.7s\n",
      "[CV] END max_depth=5, max_features=sqrt, min_samples_leaf=10, min_samples_split=15, n_estimators=1100; total time=   3.7s\n",
      "[CV] END max_depth=5, max_features=sqrt, min_samples_leaf=10, min_samples_split=15, n_estimators=1100; total time=   3.7s\n",
      "[CV] END max_depth=15, max_features=sqrt, min_samples_leaf=1, min_samples_split=15, n_estimators=300; total time=   2.4s\n",
      "[CV] END max_depth=15, max_features=sqrt, min_samples_leaf=1, min_samples_split=15, n_estimators=300; total time=   1.9s\n",
      "[CV] END max_depth=15, max_features=sqrt, min_samples_leaf=1, min_samples_split=15, n_estimators=300; total time=   1.9s\n",
      "[CV] END max_depth=15, max_features=sqrt, min_samples_leaf=1, min_samples_split=15, n_estimators=300; total time=   2.3s\n",
      "[CV] END max_depth=15, max_features=sqrt, min_samples_leaf=1, min_samples_split=15, n_estimators=300; total time=   2.0s\n",
      "[CV] END max_depth=5, max_features=sqrt, min_samples_leaf=2, min_samples_split=10, n_estimators=700; total time=   2.7s\n",
      "[CV] END max_depth=5, max_features=sqrt, min_samples_leaf=2, min_samples_split=10, n_estimators=700; total time=   2.5s\n",
      "[CV] END max_depth=5, max_features=sqrt, min_samples_leaf=2, min_samples_split=10, n_estimators=700; total time=   2.5s\n",
      "[CV] END max_depth=5, max_features=sqrt, min_samples_leaf=2, min_samples_split=10, n_estimators=700; total time=   2.5s\n",
      "[CV] END max_depth=5, max_features=sqrt, min_samples_leaf=2, min_samples_split=10, n_estimators=700; total time=   4.0s\n",
      "[CV] END max_depth=20, max_features=auto, min_samples_leaf=1, min_samples_split=15, n_estimators=700; total time=   9.3s\n",
      "[CV] END max_depth=20, max_features=auto, min_samples_leaf=1, min_samples_split=15, n_estimators=700; total time=   9.4s\n",
      "[CV] END max_depth=20, max_features=auto, min_samples_leaf=1, min_samples_split=15, n_estimators=700; total time=  10.8s\n",
      "[CV] END max_depth=20, max_features=auto, min_samples_leaf=1, min_samples_split=15, n_estimators=700; total time=   9.7s\n",
      "[CV] END max_depth=20, max_features=auto, min_samples_leaf=1, min_samples_split=15, n_estimators=700; total time=   9.7s\n"
     ]
    },
    {
     "data": {
      "text/plain": [
       "RandomizedSearchCV(cv=5, estimator=RandomForestRegressor(), n_jobs=1,\n",
       "                   param_distributions={'max_depth': [5, 10, 15, 20, 25, 30],\n",
       "                                        'max_features': ['auto', 'sqrt'],\n",
       "                                        'min_samples_leaf': [1, 2, 5, 10],\n",
       "                                        'min_samples_split': [2, 5, 10, 15,\n",
       "                                                              100],\n",
       "                                        'n_estimators': [100, 200, 300, 400,\n",
       "                                                         500, 600, 700, 800,\n",
       "                                                         900, 1000, 1100,\n",
       "                                                         1200]},\n",
       "                   random_state=42, scoring='neg_mean_squared_error',\n",
       "                   verbose=2)"
      ]
     },
     "execution_count": 314,
     "metadata": {},
     "output_type": "execute_result"
    }
   ],
   "source": [
    "rf.fit(X_train, y_train)"
   ]
  },
  {
   "cell_type": "code",
   "execution_count": 316,
   "metadata": {},
   "outputs": [],
   "source": [
    "y_test_pred = rf.predict(X_test)"
   ]
  },
  {
   "cell_type": "code",
   "execution_count": 317,
   "metadata": {},
   "outputs": [
    {
     "name": "stderr",
     "output_type": "stream",
     "text": [
      "c:\\Users\\ACT\\AppData\\Local\\Programs\\Python\\Python310\\lib\\site-packages\\seaborn\\distributions.py:2619: FutureWarning:\n",
      "\n",
      "`distplot` is a deprecated function and will be removed in a future version. Please adapt your code to use either `displot` (a figure-level function with similar flexibility) or `histplot` (an axes-level function for histograms).\n",
      "\n"
     ]
    },
    {
     "data": {
      "text/plain": [
       "<AxesSubplot:xlabel='Weight', ylabel='Density'>"
      ]
     },
     "execution_count": 317,
     "metadata": {},
     "output_type": "execute_result"
    },
    {
     "data": {
      "image/png": "[encoded data removed]",
      "text/plain": [
       "<Figure size 576x576 with 1 Axes>"
      ]
     },
     "metadata": {
      "needs_background": "light"
     },
     "output_type": "display_data"
    }
   ],
   "source": [
    "sns.distplot(y_test - y_test_pred)"
   ]
  },
  {
   "cell_type": "code",
   "execution_count": 318,
   "metadata": {},
   "outputs": [
    {
     "name": "stdout",
     "output_type": "stream",
     "text": [
      "R2: 0.51, MSE: 1844.40, RMSE: 13.13, MAE 42.95\n"
     ]
    }
   ],
   "source": [
    "# evaluate accuracy\n",
    "\n",
    "from sklearn.metrics import mean_absolute_error, mean_squared_error, r2_score\n",
    "\n",
    "print(\n",
    "    'R2: {:.2f}, MSE: {:.2f}, RMSE: {:.2f}, MAE {:.2f}'.format(\n",
    "        r2_score(y_test, y_test_pred),\n",
    "        mean_squared_error(y_test, y_test_pred),\n",
    "        mean_absolute_error(y_test, y_test_pred),\n",
    "        np.sqrt(mean_squared_error(y_test, y_test_pred)) # RMSE\n",
    "    )\n",
    ")"
   ]
  },
  {
   "cell_type": "markdown",
   "metadata": {},
   "source": [
    "        we now have a 51% accuracy"
   ]
  },
  {
   "cell_type": "markdown",
   "metadata": {},
   "source": [
    "        lets use gradient boosting"
   ]
  },
  {
   "cell_type": "code",
   "execution_count": 319,
   "metadata": {},
   "outputs": [],
   "source": [
    "from sklearn.ensemble import GradientBoostingRegressor\n",
    "from sklearn.model_selection import RandomizedSearchCV"
   ]
  },
  {
   "cell_type": "code",
   "execution_count": 320,
   "metadata": {},
   "outputs": [],
   "source": [
    "# Create a parameter distribution for the gradient boosting trees:\n",
    "\n",
    "param_dist = {'max_features' : ['log2',1.0],\n",
    "            'max_depth' : [3, 5, 7, 10],\n",
    "            'min_samples_leaf' : [2, 3, 5, 10],\n",
    "            'n_estimators': [50, 100],\n",
    "            'learning_rate' : [0.0001,0.001,0.01,0.05,0.1,0.3],\n",
    "            'loss' : ['ls','huber']\n",
    "}"
   ]
  },
  {
   "cell_type": "code",
   "execution_count": 343,
   "metadata": {},
   "outputs": [
    {
     "data": {
      "text/plain": [
       "RandomizedSearchCV(cv=3, estimator=GradientBoostingRegressor(warm_start=True),\n",
       "                   n_iter=30, n_jobs=-1,\n",
       "                   param_distributions={'max_depth': [5, 10, 15, 20, 25, 30],\n",
       "                                        'max_features': ['auto', 'sqrt'],\n",
       "                                        'min_samples_leaf': [1, 2, 5, 10],\n",
       "                                        'min_samples_split': [2, 5, 10, 15,\n",
       "                                                              100],\n",
       "                                        'n_estimators': [100, 200, 300, 400,\n",
       "                                                         500, 600, 700, 800,\n",
       "                                                         900, 1000, 1100,\n",
       "                                                         1200]})"
      ]
     },
     "execution_count": 343,
     "metadata": {},
     "output_type": "execute_result"
    }
   ],
   "source": [
    "# Run the grid search to find the best parameters. Perform a randomized search with 30 iterations:\n",
    "\n",
    "pre_gs_inst = RandomizedSearchCV(GradientBoostingRegressor(warm_start=True),\n",
    "                param_distributions = random_grid, cv=3, \n",
    "                n_iter = 30, n_jobs=-1)\n",
    "\n",
    "pre_gs_inst.fit(X_train, y_train)"
   ]
  },
  {
   "cell_type": "code",
   "execution_count": 344,
   "metadata": {},
   "outputs": [],
   "source": [
    "y_test_pred = rf.predict(X_test)"
   ]
  },
  {
   "cell_type": "code",
   "execution_count": 345,
   "metadata": {},
   "outputs": [
    {
     "name": "stdout",
     "output_type": "stream",
     "text": [
      "R2: 0.51, MSE: 1844.40, RMSE: 13.13, MAE 42.95\n"
     ]
    }
   ],
   "source": [
    "# evaluate accuracy\n",
    "\n",
    "from sklearn.metrics import mean_absolute_error, mean_squared_error, r2_score\n",
    "\n",
    "print(\n",
    "    'R2: {:.2f}, MSE: {:.2f}, RMSE: {:.2f}, MAE {:.2f}'.format(\n",
    "        r2_score(y_test, y_test_pred),\n",
    "        mean_squared_error(y_test, y_test_pred),\n",
    "        mean_absolute_error(y_test, y_test_pred),\n",
    "        np.sqrt(mean_squared_error(y_test, y_test_pred)) # RMSE\n",
    "    )\n",
    ")"
   ]
  },
  {
   "cell_type": "markdown",
   "metadata": {},
   "source": [
    "        we still get a 51%"
   ]
  }
 ],
 "metadata": {
  "kernelspec": {
   "display_name": "Python 3.10.2 64-bit",
   "language": "python",
   "name": "python3"
  },
  "language_info": {
   "codemirror_mode": {
    "name": "ipython",
    "version": 3
   },
   "file_extension": ".py",
   "mimetype": "text/x-python",
   "name": "python",
   "nbconvert_exporter": "python",
   "pygments_lexer": "ipython3",
   "version": "3.10.2"
  },
  "orig_nbformat": 4,
  "vscode": {
   "interpreter": {
    "hash": "412ccff6fb13ee14c93d2b8b85fab99f2d3a6250a390f2b105cadca88f5395d9"
   }
  }
 },
 "nbformat": 4,
 "nbformat_minor": 2
}
